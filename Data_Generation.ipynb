{
 "cells": [
  {
   "cell_type": "code",
   "execution_count": 2,
   "metadata": {},
   "outputs": [
    {
     "name": "stdout",
     "output_type": "stream",
     "text": [
      "Requirement already up-to-date: spacy in /home/evilmorty/anaconda3/lib/python3.7/site-packages (2.2.3)\n",
      "Requirement already satisfied, skipping upgrade: srsly<1.1.0,>=0.1.0 in /home/evilmorty/anaconda3/lib/python3.7/site-packages (from spacy) (1.0.1)\n",
      "Requirement already satisfied, skipping upgrade: numpy>=1.15.0 in /home/evilmorty/.local/lib/python3.7/site-packages (from spacy) (1.18.1)\n",
      "Requirement already satisfied, skipping upgrade: plac<1.2.0,>=0.9.6 in /home/evilmorty/anaconda3/lib/python3.7/site-packages (from spacy) (1.1.3)\n",
      "Requirement already satisfied, skipping upgrade: setuptools in /home/evilmorty/anaconda3/lib/python3.7/site-packages (from spacy) (41.4.0)\n",
      "Requirement already satisfied, skipping upgrade: catalogue<1.1.0,>=0.0.7 in /home/evilmorty/anaconda3/lib/python3.7/site-packages (from spacy) (1.0.0)\n",
      "Requirement already satisfied, skipping upgrade: preshed<3.1.0,>=3.0.2 in /home/evilmorty/anaconda3/lib/python3.7/site-packages (from spacy) (3.0.2)\n",
      "Requirement already satisfied, skipping upgrade: blis<0.5.0,>=0.4.0 in /home/evilmorty/anaconda3/lib/python3.7/site-packages (from spacy) (0.4.1)\n",
      "Requirement already satisfied, skipping upgrade: murmurhash<1.1.0,>=0.28.0 in /home/evilmorty/anaconda3/lib/python3.7/site-packages (from spacy) (1.0.2)\n",
      "Requirement already satisfied, skipping upgrade: wasabi<1.1.0,>=0.4.0 in /home/evilmorty/anaconda3/lib/python3.7/site-packages (from spacy) (0.6.0)\n",
      "Requirement already satisfied, skipping upgrade: requests<3.0.0,>=2.13.0 in /home/evilmorty/anaconda3/lib/python3.7/site-packages (from spacy) (2.22.0)\n",
      "Requirement already satisfied, skipping upgrade: thinc<7.4.0,>=7.3.0 in /home/evilmorty/anaconda3/lib/python3.7/site-packages (from spacy) (7.3.1)\n",
      "Requirement already satisfied, skipping upgrade: cymem<2.1.0,>=2.0.2 in /home/evilmorty/anaconda3/lib/python3.7/site-packages (from spacy) (2.0.3)\n",
      "Requirement already satisfied, skipping upgrade: importlib-metadata>=0.20; python_version < \"3.8\" in /home/evilmorty/anaconda3/lib/python3.7/site-packages (from catalogue<1.1.0,>=0.0.7->spacy) (0.23)\n",
      "Requirement already satisfied, skipping upgrade: idna<2.9,>=2.5 in /home/evilmorty/anaconda3/lib/python3.7/site-packages (from requests<3.0.0,>=2.13.0->spacy) (2.8)\n",
      "Requirement already satisfied, skipping upgrade: urllib3!=1.25.0,!=1.25.1,<1.26,>=1.21.1 in /home/evilmorty/anaconda3/lib/python3.7/site-packages (from requests<3.0.0,>=2.13.0->spacy) (1.24.2)\n",
      "Requirement already satisfied, skipping upgrade: chardet<3.1.0,>=3.0.2 in /home/evilmorty/anaconda3/lib/python3.7/site-packages (from requests<3.0.0,>=2.13.0->spacy) (3.0.4)\n",
      "Requirement already satisfied, skipping upgrade: certifi>=2017.4.17 in /home/evilmorty/anaconda3/lib/python3.7/site-packages (from requests<3.0.0,>=2.13.0->spacy) (2019.9.11)\n",
      "Requirement already satisfied, skipping upgrade: tqdm<5.0.0,>=4.10.0 in /home/evilmorty/anaconda3/lib/python3.7/site-packages (from thinc<7.4.0,>=7.3.0->spacy) (4.36.1)\n",
      "Requirement already satisfied, skipping upgrade: zipp>=0.5 in /home/evilmorty/anaconda3/lib/python3.7/site-packages (from importlib-metadata>=0.20; python_version < \"3.8\"->catalogue<1.1.0,>=0.0.7->spacy) (0.6.0)\n",
      "Requirement already satisfied, skipping upgrade: more-itertools in /home/evilmorty/anaconda3/lib/python3.7/site-packages (from zipp>=0.5->importlib-metadata>=0.20; python_version < \"3.8\"->catalogue<1.1.0,>=0.0.7->spacy) (7.2.0)\n",
      "Note: you may need to restart the kernel to use updated packages.\n"
     ]
    }
   ],
   "source": [
    "pip install -U spacy"
   ]
  },
  {
   "cell_type": "code",
   "execution_count": 1,
   "metadata": {},
   "outputs": [
    {
     "name": "stderr",
     "output_type": "stream",
     "text": [
      "[nltk_data] Downloading package wordnet to\n",
      "[nltk_data]     /home/evilmorty/nltk_data...\n",
      "[nltk_data]   Package wordnet is already up-to-date!\n"
     ]
    }
   ],
   "source": [
    "import nltk\n",
    "nltk.download('wordnet')\n",
    "from nltk.corpus import wordnet\n",
    "import numpy as np\n",
    "import spacy\n",
    "import random\n"
   ]
  },
  {
   "cell_type": "code",
   "execution_count": 2,
   "metadata": {},
   "outputs": [
    {
     "name": "stdout",
     "output_type": "stream",
     "text": [
      "['Realtor']\n"
     ]
    }
   ],
   "source": [
    "#using wordnet to generate synonyms\n",
    "from nltk.corpus import wordnet\n",
    "synonyms = []\n",
    "antonyms = []\n",
    "\n",
    "for syn in wordnet.synsets(\"realtor\"):\n",
    "    for l in syn.lemmas():\n",
    "            synonyms.append(l.name())\n",
    "            if l.antonyms():\n",
    "                antonyms.append(l.antonyms()[0].name())\n",
    "print(synonyms)"
   ]
  },
  {
   "cell_type": "code",
   "execution_count": 3,
   "metadata": {},
   "outputs": [],
   "source": [
    "#Examples of investor text being used to generate a corpus of investor text data\n",
    "investor_text=[]\n",
    "investor_text.append('My name is John. I am 34. I work in the information technology sector. I would like to invest $30000 in my RRSP this year. I do not like having military and tobacco in my portfolio. I care a lot about sustainable development.')\n",
    "investor_text.append('My name is Greg. I am 44. I work in the information technology sector. I would like to invest $30000 in my RRSP this year. I do not like gambling. I care a lot about sustainable development.')\n",
    "investor_text.append('My name is Craig. I am 51. I work in the information technology sector. I would like to invest $30000 this year. I do not like stocks with fossil fuels and I care a lot about sustainable development.')\n",
    "investor_text.append('My name is Jen. I am 28. I work information technology sector. I would like to invest $30000 this year. I do not like stocks with fossil fuels and tobacco.')\n",
    "investor_text.append('My name is Jenny. I am 39. I work in information technology sector and I do not like stocks with tobacco and I dont like gambling. I would like to invest $30000 this year. I do not like stocks with fossil fuels and military assets.')\n",
    "investor_text.append('My name is Tom. I am 29. I work in the information technology sector and I hate alcohol. I would like to invest $30000 in my RRSP this year.')\n",
    "investor_text.append('My name is Jordan. I am 35. I work information technology sector. I would like to invest $30000 in my RRSP this year. I do not like stocks with fossil fuels and tobacco.')\n",
    "investor_text.append('My name is Tim. I am 29. I would like to invest $30000 in my RRSP this year. I work in the health care and I hate alcohol and tobacco')\n",
    "investor_text.append('My name is Emma. I am 33. I work in the information technology sector and I do not like stocks with tobacco and I dont like gambling. I would like to invest $30000 this year.')\n",
    "investor_text.append('My name is Novak. I work real estate and I do not like stocks with tobacco,gambling and military.I would like to invest $30000 this year.')"
   ]
  },
  {
   "cell_type": "code",
   "execution_count": 4,
   "metadata": {},
   "outputs": [],
   "source": [
    "#Synonyms of flags\n",
    "all_synonyms={}\n",
    "all_synonyms[\"fossil fuels\"]= ['gasoline', 'gasolene', 'gas', 'petrol','natural gas','petroleum', 'crude oil', 'crude', 'rock oil', 'fossil oil', 'oil','non-renewable energy','coal','bio fuels','diesel']\n",
    "all_synonyms[\"military\"]=['armed forces', 'armed services', 'military machine', 'war machine','troops','war','navy','defense']\n",
    "all_synonyms[\"alcohol\"]=['liquor','booze','drinking','hooch','alcoholic_drink', 'alcoholic_beverage', 'intoxicant', 'inebriant','wine','liqueur']\n",
    "all_synonyms[\"tobacco\"]=[ 'baccy','smoke', 'smoking','cigar','cigarette','weed','nicotine']\n",
    "all_synonyms[\"gambling\"]=[ 'gaming', 'play', 'gamble', 'chance', 'risk','take a chance','take chances','wager','betting','bets']\n",
    "all_synonyms[\"information technology\"]=['software','data science','IT','data processing','cyber security','computer engineer','infotech']\n",
    "all_synonyms[\"health care\"]=['medical','doctor','hospital','health services','medicaid','medicine']\n",
    "all_synonyms[\"consumer staples\"]=[]\n",
    "all_synonyms[\"government\"]=['government administration','govt','state','public services','bureaucracy','regime','big brother','politics','congress']\n",
    "all_synonyms[\"real estate\"]=['realtor','property']"
   ]
  },
  {
   "cell_type": "code",
   "execution_count": 5,
   "metadata": {},
   "outputs": [],
   "source": [
    "#Programmatically adding sentences with different sectors\n",
    "sectors = [\"information technology\",\"health care\",\"government\",\"consumer staples\",\"real estate\"]\n",
    "for s in sectors:\n",
    "    for sentence in investor_text:\n",
    "            if sentence.find(s) != -1:\n",
    "                for j in sectors:\n",
    "                    if j!=s:\n",
    "                        new_sentence = sentence.replace(s,j)\n",
    "                        investor_text.append(new_sentence)\n",
    "                        \n"
   ]
  },
  {
   "cell_type": "code",
   "execution_count": 6,
   "metadata": {},
   "outputs": [],
   "source": [
    "split_text=[h.split('.') for h in investor_text]\n",
    "all_text = []\n",
    "\n"
   ]
  },
  {
   "cell_type": "code",
   "execution_count": 7,
   "metadata": {},
   "outputs": [],
   "source": [
    "flags = [\"military\",\"alcohol\",\"tobacco\",\"gambling\",\"fossil fuels\"] + sectors"
   ]
  },
  {
   "cell_type": "code",
   "execution_count": 8,
   "metadata": {},
   "outputs": [
    {
     "name": "stdout",
     "output_type": "stream",
     "text": [
      "558\n"
     ]
    }
   ],
   "source": [
    "print(len(split_text))\n",
    "# split_text"
   ]
  },
  {
   "cell_type": "code",
   "execution_count": 10,
   "metadata": {},
   "outputs": [
    {
     "name": "stdout",
     "output_type": "stream",
     "text": [
      "63\n"
     ]
    }
   ],
   "source": [
    "#programmatically generating strings by replacing flags like military, tobacco, gambling, etc.\n",
    "#by their synonyms in sentences\n",
    "# sentences are labelled as the flag found in the sentence\n",
    "data=[]\n",
    "curset={}\n",
    "for sentence in split_text:\n",
    "    for line in sentence:\n",
    "        curset[line] = []\n",
    "        \n",
    "print(len(curset))\n",
    "\n",
    "for flag in flags :\n",
    "    cur_list=[]\n",
    "    for x in curset:\n",
    "        cur_list.append(x)\n",
    "\n",
    "    for cur_line in cur_list:\n",
    "        if cur_line.find(flag) != -1:\n",
    "            for j in all_synonyms[flag]:\n",
    "                new_line = cur_line.replace(flag,j)\n",
    "                if new_line not in curset:\n",
    "                    curset[new_line]=[]\n",
    "                    for t in curset[cur_line]:\n",
    "                        curset[new_line].append(t)\n",
    "                curset[new_line].append((j,flag))\n",
    "            curset[cur_line].append((flag,flag))\n",
    "    \n",
    "# print(curset)"
   ]
  },
  {
   "cell_type": "code",
   "execution_count": 11,
   "metadata": {},
   "outputs": [],
   "source": [
    "\n",
    "for data_line in curset:\n",
    "    if len(curset[data_line])!=0 :\n",
    "        flag_set=[]\n",
    "        for cur_flag in curset[data_line]:\n",
    "            if data_line.find(cur_flag[0] )!=-1:\n",
    "                flag_set.append(cur_flag[1])\n",
    "        data.append((data_line,flag_set[0]))"
   ]
  },
  {
   "cell_type": "code",
   "execution_count": 12,
   "metadata": {},
   "outputs": [
    {
     "data": {
      "text/plain": [
       "31372"
      ]
     },
     "execution_count": 12,
     "metadata": {},
     "output_type": "execute_result"
    }
   ],
   "source": [
    "len(data)"
   ]
  },
  {
   "cell_type": "code",
   "execution_count": 14,
   "metadata": {},
   "outputs": [],
   "source": [
    "nlp = spacy.blank(\"en\")\n",
    "optimizer = nlp.begin_training()\n"
   ]
  },
  {
   "cell_type": "code",
   "execution_count": 15,
   "metadata": {},
   "outputs": [],
   "source": [
    "# print(curset)"
   ]
  },
  {
   "cell_type": "code",
   "execution_count": 16,
   "metadata": {},
   "outputs": [],
   "source": [
    "output_dir = \".\"\n"
   ]
  },
  {
   "cell_type": "code",
   "execution_count": 22,
   "metadata": {},
   "outputs": [
    {
     "name": "stdout",
     "output_type": "stream",
     "text": [
      "Created blank 'en' model\n",
      "Loading data...\n",
      "Using 1000 examples (1000 training, 6275 evaluation)\n",
      "Training the model...\n",
      "LOSS \t  P  \t  R  \t  F  \n",
      "1.324\t0.992\t0.994\t0.993\n",
      "0.048\t0.993\t0.993\t0.993\n",
      "0.016\t0.993\t0.993\t0.993\n",
      "0.013\t0.992\t0.994\t0.993\n",
      "0.007\t0.992\t0.995\t0.993\n",
      "0.004\t0.993\t0.995\t0.994\n",
      "0.003\t0.994\t0.994\t0.994\n",
      "0.002\t0.994\t0.994\t0.994\n",
      "0.001\t0.994\t0.994\t0.994\n",
      "0.001\t0.994\t0.994\t0.994\n",
      "0.001\t0.994\t0.994\t0.994\n",
      "0.001\t0.994\t0.995\t0.994\n",
      "0.001\t0.994\t0.994\t0.994\n",
      "0.000\t0.994\t0.994\t0.994\n",
      "0.000\t0.994\t0.994\t0.994\n",
      "0.000\t0.994\t0.994\t0.994\n",
      "0.000\t0.994\t0.994\t0.994\n",
      "0.000\t0.994\t0.994\t0.994\n",
      "0.000\t0.994\t0.994\t0.994\n",
      "0.000\t0.994\t0.994\t0.994\n",
      "My name is Emma. I am 33. I work in the information technology sector and I do not like stocks with tobacco and I dont like gambling. I would like to invest $30000 this year. {'military': 0.00033698396873660386, 'alcohol': 0.001311403582803905, 'tobacco': 0.9820465445518494, 'gambling': 4.539787187241018e-05, 'fossil fuels': 0.0001078532513929531, 'information technology': 4.539787187241018e-05, 'health Care': 0.5, 'government': 5.405008778325282e-05, 'consumer staples': 4.539787187241018e-05, 'real estate': 9.049241634784266e-05}\n",
      "Saved model to .\n",
      "Loading from .\n",
      "My name is Emma. I am 33. I work in the information technology sector and I do not like stocks with tobacco and I dont like gambling. I would like to invest $30000 this year. {'military': 0.0003003897436428815, 'alcohol': 0.001957245171070099, 'tobacco': 0.9825270771980286, 'gambling': 4.539787187241018e-05, 'fossil fuels': 0.0001349352387478575, 'information technology': 5.070961924502626e-05, 'health Care': 0.5, 'government': 6.264946568990126e-05, 'consumer staples': 4.539787187241018e-05, 'real estate': 0.00010377877333667129}\n"
     ]
    }
   ],
   "source": [
    "from __future__ import unicode_literals, print_function\n",
    "import plac\n",
    "import random\n",
    "from pathlib import Path\n",
    "\n",
    "from spacy.util import minibatch, compounding\n",
    "\n",
    "\n",
    "# @plac.annotations(\n",
    "#     model=(\"Model name. Defaults to blank 'en' model.\", \"option\", \"m\", str),\n",
    "#     output_dir=(\"Optional output directory\", \"option\", \"o\", Path),\n",
    "#     n_texts=(\"Number of texts to train from\", \"option\", \"t\", int),\n",
    "#     n_iter=(\"Number of training iterations\", \"option\", \"n\", int),\n",
    "#     init_tok2vec=(\"Pretrained tok2vec weights\", \"option\", \"t2v\", Path),\n",
    "# )\n",
    "def main(model=None, output_dir=None, n_iter=20, n_texts=1000, init_tok2vec=None):\n",
    "    output_dir = \".\"\n",
    "    if output_dir is not None:\n",
    "        output_dir = Path(output_dir)\n",
    "        if not output_dir.exists():\n",
    "            output_dir.mkdir()\n",
    "\n",
    "    if model is not None:\n",
    "        nlp = spacy.load(model)  # load existing spaCy model\n",
    "        print(\"Loaded model '%s'\" % model)\n",
    "    else:\n",
    "        nlp = spacy.blank(\"en\")  # create blank Language class\n",
    "        print(\"Created blank 'en' model\")\n",
    "\n",
    "    # add the text classifier to the pipeline if it doesn't exist\n",
    "    # nlp.create_pipe works for built-ins that are registered with spaCy\n",
    "    if \"textcat\" not in nlp.pipe_names:\n",
    "        textcat = nlp.create_pipe(\n",
    "            \"textcat\", config={\"exclusive_classes\": False, \"architecture\": \"simple_cnn\"}\n",
    "        )\n",
    "        nlp.add_pipe(textcat, last=True)\n",
    "    # otherwise, get it, so we can add labels to it\n",
    "    else:\n",
    "        textcat = nlp.get_pipe(\"textcat\")\n",
    "\n",
    "    # add label to text classifier\n",
    "    textcat.add_label(\"military\")\n",
    "    textcat.add_label(\"alcohol\")\n",
    "    textcat.add_label(\"tobacco\")\n",
    "    textcat.add_label(\"gambling\")\n",
    "    textcat.add_label(\"fossil fuels\")\n",
    "    textcat.add_label(\"information technology\")\n",
    "    textcat.add_label(\"health Care\")\n",
    "    textcat.add_label(\"government\")\n",
    "    textcat.add_label(\"consumer staples\")\n",
    "    textcat.add_label(\"real estate\")\n",
    "\n",
    "    # load the dataset\n",
    "    print(\"Loading data...\")\n",
    "    (train_texts, train_cats), (dev_texts, dev_cats) = load_data()\n",
    "    train_texts = train_texts[:n_texts]\n",
    "    train_cats = train_cats[:n_texts]\n",
    "    print(\n",
    "        \"Using {} examples ({} training, {} evaluation)\".format(\n",
    "            n_texts, len(train_texts), len(dev_texts)\n",
    "        )\n",
    "    )\n",
    "    train_data = list(zip(train_texts, [{\"cats\": cats} for cats in train_cats]))\n",
    "#     print (train_data)\n",
    "\n",
    "    # get names of other pipes to disable them during training\n",
    "    pipe_exceptions = [\"textcat\", \"trf_wordpiecer\", \"trf_tok2vec\"]\n",
    "    other_pipes = [pipe for pipe in nlp.pipe_names if pipe not in pipe_exceptions]\n",
    "    with nlp.disable_pipes(*other_pipes):  # only train textcat\n",
    "        optimizer = nlp.begin_training()\n",
    "        if init_tok2vec is not None:\n",
    "            with init_tok2vec.open(\"rb\") as file_:\n",
    "                textcat.model.tok2vec.from_bytes(file_.read())\n",
    "        print(\"Training the model...\")\n",
    "        print(\"{:^5}\\t{:^5}\\t{:^5}\\t{:^5}\".format(\"LOSS\", \"P\", \"R\", \"F\"))\n",
    "        batch_sizes = compounding(4.0, 32.0, 1.001)\n",
    "        for i in range(n_iter):\n",
    "            losses = {}\n",
    "            # batch up the examples using spaCy's minibatch\n",
    "            random.shuffle(train_data)\n",
    "            batches = minibatch(train_data, size=batch_sizes)\n",
    "            for batch in batches:\n",
    "                texts, annotations = zip(*batch)\n",
    "                nlp.update(texts, annotations, sgd=optimizer, drop=0.2, losses=losses)\n",
    "            with textcat.model.use_params(optimizer.averages):\n",
    "                # evaluate on the dev data split off in load_data()\n",
    "                scores = evaluate(nlp.tokenizer, textcat, dev_texts, dev_cats)\n",
    "            print(\n",
    "                \"{0:.3f}\\t{1:.3f}\\t{2:.3f}\\t{3:.3f}\".format(  # print a simple table\n",
    "                    losses[\"textcat\"],\n",
    "                    scores[\"textcat_p\"],\n",
    "                    scores[\"textcat_r\"],\n",
    "                    scores[\"textcat_f\"],\n",
    "                )\n",
    "            )\n",
    "\n",
    "    # test the trained model\n",
    "    test_text = \"My name is Emma. I am 33. I work in the information technology sector and I do not like stocks with tobacco and I dont like gambling. I would like to invest $30000 this year.\"\n",
    "    doc = nlp(test_text)\n",
    "    print(test_text, doc.cats)\n",
    "\n",
    "    if output_dir is not None:\n",
    "        with nlp.use_params(optimizer.averages):\n",
    "            nlp.to_disk(output_dir)\n",
    "        print(\"Saved model to\", output_dir)\n",
    "\n",
    "        # test the saved model\n",
    "        print(\"Loading from\", output_dir)\n",
    "        nlp2 = spacy.load(output_dir)\n",
    "        doc2 = nlp2(test_text)\n",
    "        print(test_text, doc2.cats)\n",
    "\n",
    "\n",
    "def load_data(limit=0, split=0.8):\n",
    "    # Partition off part of the train data for evaluation\n",
    "    train_data = data\n",
    "    random.shuffle(train_data)\n",
    "    train_data = train_data[-limit:]\n",
    "    texts, labels = zip(*train_data)\n",
    "    cats=[]\n",
    "    for line in labels:\n",
    "        dis={}\n",
    "        for i in flags :\n",
    "            if i in line:\n",
    "                  dis[i]=True\n",
    "            else:\n",
    "                dis[i]=False\n",
    "        cats.append(dis)\n",
    "    split = int(len(train_data) * split)\n",
    "    return (texts[:split], cats[:split]), (texts[split:], cats[split:])\n",
    "\n",
    "\n",
    "def evaluate(tokenizer, textcat, texts, cats):\n",
    "    docs = (tokenizer(text) for text in texts)\n",
    "    tp = 0.0  # True positives\n",
    "    fp = 1e-8  # False positives\n",
    "    fn = 1e-8  # False negatives\n",
    "    tn = 0.0  # True negatives\n",
    "    for i, doc in enumerate(textcat.pipe(docs)):\n",
    "        gold = cats[i]\n",
    "        for label, score in doc.cats.items():\n",
    "            if label not in gold:\n",
    "                continue\n",
    "            if label == \"NEGATIVE\":\n",
    "                continue\n",
    "            if score >= 0.5 and gold[label] >= 0.5:\n",
    "                tp += 1.0\n",
    "            elif score >= 0.5 and gold[label] < 0.5:\n",
    "                fp += 1.0\n",
    "            elif score < 0.5 and gold[label] < 0.5:\n",
    "                tn += 1\n",
    "            elif score < 0.5 and gold[label] >= 0.5:\n",
    "                fn += 1\n",
    "    precision = tp / (tp + fp)\n",
    "    recall = tp / (tp + fn)\n",
    "    if (precision + recall) == 0:\n",
    "        f_score = 0.0\n",
    "    else:\n",
    "        f_score = 2 * (precision * recall) / (precision + recall)\n",
    "    return {\"textcat_p\": precision, \"textcat_r\": recall, \"textcat_f\": f_score}\n",
    "\n",
    "\n",
    "main()"
   ]
  },
  {
   "cell_type": "code",
   "execution_count": 27,
   "metadata": {},
   "outputs": [
    {
     "name": "stdout",
     "output_type": "stream",
     "text": [
      "I work in the information technology sector and I do not like stocks with tobacco and I dont like gambling {'military': 0.00019675570365507156, 'alcohol': 0.0010964245302602649, 'tobacco': 0.9989244341850281, 'gambling': 4.539787187241018e-05, 'fossil fuels': 0.000180625676875934, 'information technology': 5.741332279285416e-05, 'health Care': 0.4999998211860657, 'government': 7.983249088283628e-05, 'consumer staples': 4.539787187241018e-05, 'real estate': 0.00010042887879535556}\n"
     ]
    }
   ],
   "source": [
    "test_text='I work in the information technology sector and I do not like stocks with tobacco and I dont like gambling'\n",
    "output_dir = \".\"\n",
    "nlp2 = spacy.load(output_dir)\n",
    "doc2 = nlp2(test_text)\n",
    "print(test_text, doc2.cats)"
   ]
  },
  {
   "cell_type": "code",
   "execution_count": 19,
   "metadata": {},
   "outputs": [],
   "source": [
    "textcat = nlp2.get_pipe(\"textcat\")"
   ]
  },
  {
   "cell_type": "code",
   "execution_count": 44,
   "metadata": {},
   "outputs": [
    {
     "data": {
      "text/plain": [
       "(array([[4.5397872e-05, 1.1054074e-04, 9.9995458e-01, 4.7750810e-01,\n",
       "         4.5397872e-05, 4.5397872e-05, 5.0000030e-01, 3.0892214e-04,\n",
       "         4.5397872e-05, 4.9583956e-05]], dtype=float32),\n",
       " [array([], dtype=float32)])"
      ]
     },
     "execution_count": 44,
     "metadata": {},
     "output_type": "execute_result"
    }
   ],
   "source": [
    "textcat.predict([doc2])"
   ]
  },
  {
   "cell_type": "code",
   "execution_count": 45,
   "metadata": {},
   "outputs": [
    {
     "name": "stdout",
     "output_type": "stream",
     "text": [
      "[[1.9675570e-04 1.0964245e-03 9.9892443e-01 4.5397872e-05 1.8062568e-04\n",
      "  5.7413323e-05 4.9999982e-01 7.9832491e-05 4.5397872e-05 1.0042888e-04]]\n"
     ]
    }
   ],
   "source": [
    "print(scores)"
   ]
  },
  {
   "cell_type": "code",
   "execution_count": 39,
   "metadata": {},
   "outputs": [
    {
     "name": "stdout",
     "output_type": "stream",
     "text": [
      "[array([], dtype=float32)]\n"
     ]
    }
   ],
   "source": [
    "print(tensors)"
   ]
  },
  {
   "cell_type": "code",
   "execution_count": 21,
   "metadata": {},
   "outputs": [
    {
     "name": "stdout",
     "output_type": "stream",
     "text": [
      "{'military': 0.0016351987142115831, 'alcohol': 4.539787187241018e-05, 'tobacco': 0.9998078942298889, 'gambling': 0.0005756979808211327, 'fossil fuels': 4.539787187241018e-05, 'information technology': 4.539787187241018e-05, 'health Care': 0.5000003576278687, 'government': 4.539787187241018e-05, 'consumer staples': 4.539787187241018e-05, 'real estate': 4.652397183235735e-05}\n"
     ]
    },
    {
     "data": {
      "text/plain": [
       "(array([[1.6351987e-03, 4.5397872e-05, 9.9980789e-01, 5.7569798e-04,\n",
       "         4.5397872e-05, 4.5397872e-05, 5.0000036e-01, 4.5397872e-05,\n",
       "         4.5397872e-05, 4.6523972e-05]], dtype=float32),\n",
       " [array([], dtype=float32)])"
      ]
     },
     "execution_count": 21,
     "metadata": {},
     "output_type": "execute_result"
    }
   ],
   "source": [
    "test_text = \"I like cigarette stocks\"\n",
    "doc2 = nlp2(test_text)\n",
    "print(doc2.cats)\n",
    "textcat.predict([doc2])"
   ]
  },
  {
   "cell_type": "code",
   "execution_count": null,
   "metadata": {},
   "outputs": [],
   "source": []
  }
 ],
 "metadata": {
  "celltoolbar": "Raw Cell Format",
  "kernelspec": {
   "display_name": "Python 3",
   "language": "python",
   "name": "python3"
  },
  "language_info": {
   "codemirror_mode": {
    "name": "ipython",
    "version": 3
   },
   "file_extension": ".py",
   "mimetype": "text/x-python",
   "name": "python",
   "nbconvert_exporter": "python",
   "pygments_lexer": "ipython3",
   "version": "3.7.4"
  }
 },
 "nbformat": 4,
 "nbformat_minor": 4
}
