{
 "cells": [
  {
   "cell_type": "code",
   "execution_count": 1,
   "metadata": {},
   "outputs": [
    {
     "name": "stdout",
     "output_type": "stream",
     "text": [
      "Requirement already satisfied: PyPortfolioOpt in /home/evilmorty/anaconda3/lib/python3.7/site-packages (0.5.3)\n",
      "Requirement already satisfied: numpy in /home/evilmorty/.local/lib/python3.7/site-packages (from PyPortfolioOpt) (1.18.1)\n",
      "Requirement already satisfied: scipy in /home/evilmorty/anaconda3/lib/python3.7/site-packages (from PyPortfolioOpt) (1.3.1)\n",
      "Requirement already satisfied: pandas<0.26.0,>=0.25.3 in /home/evilmorty/anaconda3/lib/python3.7/site-packages (from PyPortfolioOpt) (0.25.3)\n",
      "Requirement already satisfied: python-dateutil>=2.6.1 in /home/evilmorty/anaconda3/lib/python3.7/site-packages (from pandas<0.26.0,>=0.25.3->PyPortfolioOpt) (2.8.0)\n",
      "Requirement already satisfied: pytz>=2017.2 in /home/evilmorty/anaconda3/lib/python3.7/site-packages (from pandas<0.26.0,>=0.25.3->PyPortfolioOpt) (2019.3)\n",
      "Requirement already satisfied: six>=1.5 in /home/evilmorty/anaconda3/lib/python3.7/site-packages (from python-dateutil>=2.6.1->pandas<0.26.0,>=0.25.3->PyPortfolioOpt) (1.12.0)\n",
      "Note: you may need to restart the kernel to use updated packages.\n"
     ]
    }
   ],
   "source": [
    "pip install PyPortfolioOpt"
   ]
  },
  {
   "cell_type": "code",
   "execution_count": null,
   "metadata": {},
   "outputs": [],
   "source": []
  },
  {
   "cell_type": "code",
   "execution_count": 2,
   "metadata": {},
   "outputs": [
    {
     "name": "stdout",
     "output_type": "stream",
     "text": [
      "{'JOHNSON CONTROLS INTERNATIONAL PLC': 0.00749, 'ALPHABET INC': 0.01334, 'AMGEN INC': 0.0078, 'AUTOZONE INC': 0.00827, 'BALL CORP': 0.0, 'CHIPOTLE MEXICAN GRILL INC': 0.01679, 'COCA-COLA': 0.00191, 'EXXON MOBIL CORP': 0.0, 'INTUITIVE SURGICAL INC': 0.0, 'iShares Gold Trust': 0.0, 'iShares Core S&P 500': 0.04013, 'iShares iBoxx $ Investment Grade Corporate Bond': 0.0, 'iShares TIPS Bond': 0.0, 'iShares Core S&P Mid-Cap ETF': 0.0, 'iShares MSCI EAFE': 0.0, 'iShares Russell 1000 Growth ETF': 0.04167, 'iShares Russell 1000 Growth ETF.1': 0.0, 'iShares Core S&P Small-Cap ETF': 0.0, 'iShares National Muni Bond ETF': 0.84337, 'Shares J.P. Morgan USD Emerging Markets Bond': 0.0, 'iShares iBoxx $ High Yield Corporate Bond ETF': 0.0, 'iShares MBS ETF ': 0.00908, 'iShares 3-7 Year Treasury Bond': 0.0, 'iShares 1-3 Year Credit Bond': 0.0, 'KELLOGG': 0.00097, 'MARATHON PETROLEUM CORP': 0.0, 'NEWMONT MINING CORP': 0.00918, 'PAYPAL HOLDINGS INC': 0.0, 'iShares 20+ Year Treasury Bond': 0.0, 'iShares Core MSCI Emerging Markets': 0.0}\n",
      "Expected annual return: 11.0%\n",
      "Annual volatility: 1.9%\n",
      "Sharpe Ratio: 4.73\n"
     ]
    },
    {
     "data": {
      "text/plain": [
       "(0.11004638451292692, 0.019047755562896226, 4.7274013053974375)"
      ]
     },
     "execution_count": 2,
     "metadata": {},
     "output_type": "execute_result"
    }
   ],
   "source": [
    "import pandas as pd\n",
    "from pypfopt.efficient_frontier import EfficientFrontier\n",
    "from pypfopt import risk_models\n",
    "from pypfopt import expected_returns\n",
    "\n",
    "# Read in price data\n",
    "\n",
    "df = pd.read_csv(\"stock_prices.csv\", parse_dates=True, index_col=\"date\")\n",
    "\n",
    "# Calculate expected returns and sample covariance\n",
    "mu = expected_returns.mean_historical_return(df)\n",
    "S = risk_models.sample_cov(df)\n",
    "\n",
    "# Optimise for maximal Sharpe ratio\n",
    "ef = EfficientFrontier(mu, S)\n",
    "raw_weights = ef.max_sharpe()\n",
    "cleaned_weights = ef.clean_weights()\n",
    "ef.save_weights_to_file(\"weights.csv\")  # saves to file\n",
    "print(cleaned_weights)\n",
    "ef.portfolio_performance(verbose=True)"
   ]
  },
  {
   "cell_type": "code",
   "execution_count": 3,
   "metadata": {},
   "outputs": [
    {
     "name": "stdout",
     "output_type": "stream",
     "text": [
      "{'JOHNSON CONTROLS INTERNATIONAL PLC': 0.004275933614660139, 'ALPHABET INC': 0.010332104898835629, 'AMGEN INC': 0.002279091119449612, 'AUTOZONE INC': 0.005770572015074548, 'BALL CORP': 0.0, 'CHIPOTLE MEXICAN GRILL INC': 0.00862362057777554, 'COCA-COLA': 0.0, 'EXXON MOBIL CORP': 0.0, 'INTUITIVE SURGICAL INC': 0.0, 'iShares Gold Trust': 0.0, 'iShares Core S&P 500': 0.004247304820801598, 'iShares iBoxx $ Investment Grade Corporate Bond': 0.0, 'iShares TIPS Bond': 0.0, 'iShares Core S&P Mid-Cap ETF': 0.0, 'iShares MSCI EAFE': 0.0, 'iShares Russell 1000 Growth ETF': 0.07053101134675045, 'iShares Russell 1000 Growth ETF.1': 0.0, 'iShares Core S&P Small-Cap ETF': 0.0, 'iShares National Muni Bond ETF': 0.5894997660801728, 'Shares J.P. Morgan USD Emerging Markets Bond': 0.0, 'iShares iBoxx $ High Yield Corporate Bond ETF': 0.0004354607323975476, 'iShares MBS ETF ': 0.0, 'iShares 3-7 Year Treasury Bond': 0.0, 'iShares 1-3 Year Credit Bond': 0.3039386383618841, 'KELLOGG': 0.0, 'MARATHON PETROLEUM CORP': 0.0, 'NEWMONT MINING CORP': 6.64964321980206e-05, 'PAYPAL HOLDINGS INC': 0.0, 'iShares 20+ Year Treasury Bond': 0.0, 'iShares Core MSCI Emerging Markets': 0.0}\n",
      "Expected annual return: 8.4%\n",
      "Annual volatility: 1.4%\n",
      "Sharpe Ratio: 4.50\n"
     ]
    },
    {
     "data": {
      "text/plain": [
       "(0.08384816742997248, 0.014188243499801995, 4.500075533018834)"
      ]
     },
     "execution_count": 3,
     "metadata": {},
     "output_type": "execute_result"
    }
   ],
   "source": [
    "from pypfopt.cla import CLA\n",
    "cla = CLA(mu, S)\n",
    "print(cla.max_sharpe())\n",
    "cla.portfolio_performance(verbose=True)"
   ]
  },
  {
   "cell_type": "code",
   "execution_count": 4,
   "metadata": {},
   "outputs": [
    {
     "name": "stdout",
     "output_type": "stream",
     "text": [
      "<class 'str'>\n",
      "<class 'pandas.core.series.Series'>\n",
      "JOHNSON CONTROLS INTERNATIONAL PLC                 float64\n",
      "ALPHABET INC                                       float64\n",
      "AMGEN INC                                          float64\n",
      "AUTOZONE INC                                       float64\n",
      "BALL CORP                                          float64\n",
      "CHIPOTLE MEXICAN GRILL INC                         float64\n",
      "COCA-COLA                                          float64\n",
      "EXXON MOBIL CORP                                   float64\n",
      "INTUITIVE SURGICAL INC                             float64\n",
      "iShares Gold Trust                                 float64\n",
      "iShares Core S&P 500                               float64\n",
      "iShares iBoxx $ Investment Grade Corporate Bond    float64\n",
      "iShares TIPS Bond                                  float64\n",
      "iShares Core S&P Mid-Cap ETF                       float64\n",
      "iShares MSCI EAFE                                  float64\n",
      "iShares Russell 1000 Growth ETF                    float64\n",
      "iShares Russell 1000 Growth ETF.1                  float64\n",
      "iShares Core S&P Small-Cap ETF                     float64\n",
      "iShares National Muni Bond ETF                     float64\n",
      "Shares J.P. Morgan USD Emerging Markets Bond       float64\n",
      "iShares iBoxx $ High Yield Corporate Bond ETF      float64\n",
      "iShares MBS ETF                                    float64\n",
      "iShares 3-7 Year Treasury Bond                     float64\n",
      "iShares 1-3 Year Credit Bond                       float64\n",
      "KELLOGG                                            float64\n",
      "MARATHON PETROLEUM CORP                            float64\n",
      "NEWMONT MINING CORP                                float64\n",
      "PAYPAL HOLDINGS INC                                float64\n",
      "iShares 20+ Year Treasury Bond                     float64\n",
      "iShares Core MSCI Emerging Markets                 float64\n",
      "dtype: object\n"
     ]
    }
   ],
   "source": [
    "print(type(df.columns[0]))\n",
    "print(type(df[df.columns[3]]))\n",
    "print(df.dtypes)"
   ]
  },
  {
   "cell_type": "code",
   "execution_count": 5,
   "metadata": {},
   "outputs": [
    {
     "name": "stdout",
     "output_type": "stream",
     "text": [
      "DatetimeIndex(['2019-01-30', '2019-01-31', '2019-02-01', '2019-02-04',\n",
      "               '2019-02-05', '2019-02-06', '2019-02-07', '2019-02-08',\n",
      "               '2019-02-11', '2019-02-12',\n",
      "               ...\n",
      "               '2020-01-15', '2020-01-16', '2020-01-17', '2020-01-21',\n",
      "               '2020-01-22', '2020-01-23', '2020-01-24', '2020-01-27',\n",
      "               '2020-01-28', '2020-01-29'],\n",
      "              dtype='datetime64[ns]', name='date', length=252, freq=None)\n"
     ]
    }
   ],
   "source": [
    "print(df.index)"
   ]
  },
  {
   "cell_type": "code",
   "execution_count": 10,
   "metadata": {},
   "outputs": [
    {
     "name": "stdout",
     "output_type": "stream",
     "text": [
      "<class 'method'>\n"
     ]
    }
   ],
   "source": [
    "import matplotlib.pyplot as plt\n",
    "print(type(cla.efficient_frontier))"
   ]
  },
  {
   "cell_type": "code",
   "execution_count": null,
   "metadata": {},
   "outputs": [],
   "source": []
  }
 ],
 "metadata": {
  "kernelspec": {
   "display_name": "Python 3",
   "language": "python",
   "name": "python3"
  },
  "language_info": {
   "codemirror_mode": {
    "name": "ipython",
    "version": 3
   },
   "file_extension": ".py",
   "mimetype": "text/x-python",
   "name": "python",
   "nbconvert_exporter": "python",
   "pygments_lexer": "ipython3",
   "version": "3.7.4"
  }
 },
 "nbformat": 4,
 "nbformat_minor": 2
}
