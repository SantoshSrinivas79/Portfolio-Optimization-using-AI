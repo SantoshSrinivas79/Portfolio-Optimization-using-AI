{
 "cells": [
  {
   "cell_type": "markdown",
   "metadata": {
    "collapsed": true
   },
   "source": [
    "# Cognitive Portfolio Optimization\n",
    "\n",
    "## This notebook outlines steps to combine AI with Portfolio Optimization service\n",
    "\n",
    "This notebook requires a tradable universe. The experimental version of the Portfolio Optimization service http://cloud.ibm.com/catalog/services/portfolio-optimization has a static data set for users to play with; a dynamic data set will be integrated in a future release. Note that much of the data in this sample set is _representative_ of actual data. \n",
    "\n",
    "The spreadsheet \"Universe Data\" contains all relevant information on the current sample data set."
   ]
  },
  {
   "cell_type": "markdown",
   "metadata": {},
   "source": [
    "## Step 1 - Load in Data Set\n",
    "\n",
    "Load the file into the notebook. Apparently there's a command that simply inserts the code into your notebook that converts the csv file to a pandas dataframe!"
   ]
  },
  {
   "cell_type": "code",
   "execution_count": 1,
   "metadata": {},
   "outputs": [],
   "source": [
    "from io import StringIO\n",
    "import requests\n",
    "import json\n",
    "import pandas as pd\n",
    "import numpy as np\n",
    "import spacy\n",
    "import random"
   ]
  },
  {
   "cell_type": "code",
   "execution_count": 2,
   "metadata": {},
   "outputs": [
    {
     "data": {
      "text/html": [
       "<div>\n",
       "<style scoped>\n",
       "    .dataframe tbody tr th:only-of-type {\n",
       "        vertical-align: middle;\n",
       "    }\n",
       "\n",
       "    .dataframe tbody tr th {\n",
       "        vertical-align: top;\n",
       "    }\n",
       "\n",
       "    .dataframe thead th {\n",
       "        text-align: right;\n",
       "    }\n",
       "</style>\n",
       "<table border=\"1\" class=\"dataframe\">\n",
       "  <thead>\n",
       "    <tr style=\"text-align: right;\">\n",
       "      <th></th>\n",
       "      <th>Ticker</th>\n",
       "      <th>Name</th>\n",
       "      <th>CUSIP</th>\n",
       "      <th>Sector</th>\n",
       "      <th>Geography</th>\n",
       "      <th>Asset Class</th>\n",
       "      <th>Last Close Price</th>\n",
       "      <th>One Month Return</th>\n",
       "      <th>Risk Score</th>\n",
       "      <th>Controversy</th>\n",
       "      <th>...</th>\n",
       "      <th>Social</th>\n",
       "      <th>Sustainability</th>\n",
       "      <th>Has Tobacco</th>\n",
       "      <th>Has Alcohol</th>\n",
       "      <th>Has Gambling</th>\n",
       "      <th>Has Military</th>\n",
       "      <th>Has Fossil Fuels</th>\n",
       "      <th>Benchmark - Conservative</th>\n",
       "      <th>Benchmark - Moderate</th>\n",
       "      <th>Benchmark - Aggressive</th>\n",
       "    </tr>\n",
       "  </thead>\n",
       "  <tbody>\n",
       "    <tr>\n",
       "      <th>0</th>\n",
       "      <td>CX_IE00BY7QL619_NYQ</td>\n",
       "      <td>JOHNSON CONTROLS INTERNATIONAL PLC</td>\n",
       "      <td>00BY7QL61</td>\n",
       "      <td>Industrials</td>\n",
       "      <td>Domestic</td>\n",
       "      <td>Equity</td>\n",
       "      <td>44.00</td>\n",
       "      <td>0.007803</td>\n",
       "      <td>5</td>\n",
       "      <td>Average</td>\n",
       "      <td>...</td>\n",
       "      <td>High</td>\n",
       "      <td>Low</td>\n",
       "      <td>0</td>\n",
       "      <td>0</td>\n",
       "      <td>0</td>\n",
       "      <td>0</td>\n",
       "      <td>0</td>\n",
       "      <td>0.0</td>\n",
       "      <td>0.0</td>\n",
       "      <td>0.0</td>\n",
       "    </tr>\n",
       "    <tr>\n",
       "      <th>1</th>\n",
       "      <td>CX_US02079KAA51_USD</td>\n",
       "      <td>ALPHABET INC</td>\n",
       "      <td>02079KAA5</td>\n",
       "      <td>Information Technology</td>\n",
       "      <td>Domestic</td>\n",
       "      <td>Corporate Bonds</td>\n",
       "      <td>105.39</td>\n",
       "      <td>-0.000429</td>\n",
       "      <td>3</td>\n",
       "      <td>Low</td>\n",
       "      <td>...</td>\n",
       "      <td>Low</td>\n",
       "      <td>Average</td>\n",
       "      <td>0</td>\n",
       "      <td>0</td>\n",
       "      <td>0</td>\n",
       "      <td>0</td>\n",
       "      <td>0</td>\n",
       "      <td>0.0</td>\n",
       "      <td>0.0</td>\n",
       "      <td>0.0</td>\n",
       "    </tr>\n",
       "    <tr>\n",
       "      <th>2</th>\n",
       "      <td>CX_US031162BG42_USD</td>\n",
       "      <td>AMGEN INC</td>\n",
       "      <td>031162BG4</td>\n",
       "      <td>Health Care</td>\n",
       "      <td>Domestic</td>\n",
       "      <td>Corporate Bonds</td>\n",
       "      <td>106.49</td>\n",
       "      <td>0.000237</td>\n",
       "      <td>4</td>\n",
       "      <td>Average</td>\n",
       "      <td>...</td>\n",
       "      <td>High</td>\n",
       "      <td>Low</td>\n",
       "      <td>0</td>\n",
       "      <td>0</td>\n",
       "      <td>0</td>\n",
       "      <td>0</td>\n",
       "      <td>0</td>\n",
       "      <td>0.0</td>\n",
       "      <td>0.0</td>\n",
       "      <td>0.0</td>\n",
       "    </tr>\n",
       "    <tr>\n",
       "      <th>3</th>\n",
       "      <td>CX_US031162BK53_USD</td>\n",
       "      <td>Amgen 5.15% 11/15/2041</td>\n",
       "      <td>031162BK5</td>\n",
       "      <td>Health Care</td>\n",
       "      <td>Domestic</td>\n",
       "      <td>Corporate Bonds</td>\n",
       "      <td>116.05</td>\n",
       "      <td>0.004569</td>\n",
       "      <td>3</td>\n",
       "      <td>High</td>\n",
       "      <td>...</td>\n",
       "      <td>High</td>\n",
       "      <td>Average</td>\n",
       "      <td>0</td>\n",
       "      <td>0</td>\n",
       "      <td>0</td>\n",
       "      <td>0</td>\n",
       "      <td>0</td>\n",
       "      <td>0.0</td>\n",
       "      <td>0.0</td>\n",
       "      <td>0.0</td>\n",
       "    </tr>\n",
       "    <tr>\n",
       "      <th>4</th>\n",
       "      <td>CX_US03232PAD06_USD</td>\n",
       "      <td>AmSurg Corp 5.625% 07/15/2022</td>\n",
       "      <td>03232PAD0</td>\n",
       "      <td>Health Care</td>\n",
       "      <td>Domestic</td>\n",
       "      <td>Corporate Bonds</td>\n",
       "      <td>104.00</td>\n",
       "      <td>0.000594</td>\n",
       "      <td>3</td>\n",
       "      <td>Average</td>\n",
       "      <td>...</td>\n",
       "      <td>Average</td>\n",
       "      <td>Average</td>\n",
       "      <td>0</td>\n",
       "      <td>0</td>\n",
       "      <td>0</td>\n",
       "      <td>0</td>\n",
       "      <td>0</td>\n",
       "      <td>0.0</td>\n",
       "      <td>0.0</td>\n",
       "      <td>0.0</td>\n",
       "    </tr>\n",
       "  </tbody>\n",
       "</table>\n",
       "<p>5 rows × 22 columns</p>\n",
       "</div>"
      ],
      "text/plain": [
       "                Ticker                                Name      CUSIP  \\\n",
       "0  CX_IE00BY7QL619_NYQ  JOHNSON CONTROLS INTERNATIONAL PLC  00BY7QL61   \n",
       "1  CX_US02079KAA51_USD                        ALPHABET INC  02079KAA5   \n",
       "2  CX_US031162BG42_USD                           AMGEN INC  031162BG4   \n",
       "3  CX_US031162BK53_USD              Amgen 5.15% 11/15/2041  031162BK5   \n",
       "4  CX_US03232PAD06_USD       AmSurg Corp 5.625% 07/15/2022  03232PAD0   \n",
       "\n",
       "                   Sector Geography      Asset Class  Last Close Price  \\\n",
       "0             Industrials  Domestic           Equity             44.00   \n",
       "1  Information Technology  Domestic  Corporate Bonds            105.39   \n",
       "2             Health Care  Domestic  Corporate Bonds            106.49   \n",
       "3             Health Care  Domestic  Corporate Bonds            116.05   \n",
       "4             Health Care  Domestic  Corporate Bonds            104.00   \n",
       "\n",
       "   One Month Return  Risk Score Controversy  ...   Social Sustainability  \\\n",
       "0          0.007803           5     Average  ...     High            Low   \n",
       "1         -0.000429           3         Low  ...      Low        Average   \n",
       "2          0.000237           4     Average  ...     High            Low   \n",
       "3          0.004569           3        High  ...     High        Average   \n",
       "4          0.000594           3     Average  ...  Average        Average   \n",
       "\n",
       "  Has Tobacco Has Alcohol  Has Gambling  Has Military  Has Fossil Fuels  \\\n",
       "0           0           0             0             0                 0   \n",
       "1           0           0             0             0                 0   \n",
       "2           0           0             0             0                 0   \n",
       "3           0           0             0             0                 0   \n",
       "4           0           0             0             0                 0   \n",
       "\n",
       "   Benchmark - Conservative  Benchmark - Moderate  Benchmark - Aggressive  \n",
       "0                       0.0                   0.0                     0.0  \n",
       "1                       0.0                   0.0                     0.0  \n",
       "2                       0.0                   0.0                     0.0  \n",
       "3                       0.0                   0.0                     0.0  \n",
       "4                       0.0                   0.0                     0.0  \n",
       "\n",
       "[5 rows x 22 columns]"
      ]
     },
     "execution_count": 2,
     "metadata": {},
     "output_type": "execute_result"
    }
   ],
   "source": [
    "universe_data = pd.read_csv('Universe Data.csv')\n",
    "universe_data.head()"
   ]
  },
  {
   "cell_type": "markdown",
   "metadata": {},
   "source": [
    "## Step 2 - Get Investor Profile and Preferences as Natural Text\n",
    "\n",
    "Watson Natural Language Understanding service http://cloud.ibm.com/catalog/services/natural-language-understanding analyzes provided text (in text, url, or html format) for the specified semantic features.\n",
    "\n",
    "It can extract entities, concepts, keywords, categories, relations, sentiment, and emotions from provided text.\n",
    "\n",
    "Watson Language Classifier service also lets you build custom classifiers to classify texts provided that you have training data."
   ]
  },
  {
   "cell_type": "code",
   "execution_count": 3,
   "metadata": {},
   "outputs": [],
   "source": [
    "# try:\n",
    "#     from watson_developer_cloud import NaturalLanguageUnderstandingV1 as NLU\n",
    "#     from watson_developer_cloud.natural_language_understanding_v1 import Features, EntitiesOptions, KeywordsOptions, ConceptsOptions, CategoriesOptions, EmotionOptions, RelationsOptions, SemanticRolesOptions\n",
    "# except:\n",
    "#     !pip install watson_developer_cloud"
   ]
  },
  {
   "cell_type": "code",
   "execution_count": 4,
   "metadata": {},
   "outputs": [],
   "source": [
    "# Insert your username and password\n",
    "# apikey='sy3UugZgezzNAb8k_Ks42Eh_3VmE07wwE96m8Sxk8qXi'\n",
    "# nlu = NLU(\n",
    "#     iam_apikey=apikey,\n",
    "#     version='2018-03-16'\n",
    "# )"
   ]
  },
  {
   "cell_type": "markdown",
   "metadata": {},
   "source": [
    "Create text (investor profile and preferences) to analyze."
   ]
  },
  {
   "cell_type": "code",
   "execution_count": 5,
   "metadata": {},
   "outputs": [],
   "source": [
    "investor_text='My name is Pam. I am 39. I work in health care sector. I would like to invest $30000 in my RRSP this year. I would like highly diversified portfolio. I do not like having tobacco stocks in my portfolio. I care a lot about sustainable development.'"
   ]
  },
  {
   "cell_type": "markdown",
   "metadata": {},
   "source": [
    "From natural language understanding of the text we may try to figure out the following:\n",
    "- **Holdings**: Where are we starting from? A blank slate? Or does the user have existing holdings? (*investor is starting from a blank portfolio and would like to invest $30000, portfolio construction problem instead of portfolio rebalancing*)\n",
    "- **Benchmark**: If we're matching the properties of something, what are we matching? (*Aggressive, Moderate, or Conservative benchmark, Aggressive benchmark in this case as investor is 34 and investing for retirement (RRSP) - 30+ years till retirement, plus young person*)\n",
    "- **Objective**: What are we trying to do? Are we minimizing or maximizing some property? Or are we matching a target? (*minimizing tracking error with respect to the benchmark, we can incorporate multiple objective functions later*)\n",
    "- **Preferences**: What are the users unique preferences and constraints that we need to take into account when performing this calculation? Is there anything that can't be included? Do we need to have a specific weight at the end of our calculation? (*as investor wants highly diversified portfolio weights of each asset should be less than 5-10%, no military of fossil fuel assets in an optimal portfolio, high weight of sustainability assets, high weight of IT assets as investor works in IT*)"
   ]
  },
  {
   "cell_type": "markdown",
   "metadata": {},
   "source": [
    "#### Concepts\n",
    "This function uses the natural language understanding object to analyze the provided text for the top 10 concepts in it:"
   ]
  },
  {
   "cell_type": "code",
   "execution_count": 6,
   "metadata": {
    "scrolled": true
   },
   "outputs": [],
   "source": [
    "# response = nlu.analyze(text=investor_text, features=Features(concepts=ConceptsOptions(limit=10)))\n",
    "# print(json.dumps(response.result, indent=2))"
   ]
  },
  {
   "cell_type": "markdown",
   "metadata": {},
   "source": [
    "#### Keywords\n",
    "This function uses the natural language understanding object to analyze the provided text for keywords in it:"
   ]
  },
  {
   "cell_type": "code",
   "execution_count": 7,
   "metadata": {},
   "outputs": [],
   "source": [
    "# response = nlu.analyze(text=investor_text, features=Features(keywords=KeywordsOptions(emotion=True, sentiment=True)))\n",
    "# print(json.dumps(response.result, indent=2))"
   ]
  },
  {
   "cell_type": "markdown",
   "metadata": {},
   "source": [
    "#### Categories\n",
    "This function uses the natural language understanding object to analyze the provided text for the categories that it fits into:"
   ]
  },
  {
   "cell_type": "code",
   "execution_count": 8,
   "metadata": {},
   "outputs": [],
   "source": [
    "# response = nlu.analyze(text=investor_text, features=Features(categories=CategoriesOptions()))\n",
    "# print(json.dumps(response.result, indent=2))"
   ]
  },
  {
   "cell_type": "markdown",
   "metadata": {},
   "source": [
    "#### Emotions\n",
    "This function uses the natural language understanding object to analyze the provided text to find the emotion that it is conveying:"
   ]
  },
  {
   "cell_type": "code",
   "execution_count": 9,
   "metadata": {},
   "outputs": [],
   "source": [
    "# response = nlu.analyze(text=investor_text, features=Features(emotion=EmotionOptions(targets=['information technology','military'])))\n",
    "# print(json.dumps(response.result, indent=2))"
   ]
  },
  {
   "cell_type": "markdown",
   "metadata": {},
   "source": [
    "#### Entities\n",
    "This function uses the natural language understanding object to analyze the provided text to find relevant entities in the text:"
   ]
  },
  {
   "cell_type": "code",
   "execution_count": 10,
   "metadata": {},
   "outputs": [],
   "source": [
    "# all_feat = nlu.analyze(text=investor_text, features=Features(entities=EntitiesOptions(sentiment=True)))\n",
    "# all_feat.result"
   ]
  },
  {
   "cell_type": "code",
   "execution_count": 11,
   "metadata": {
    "scrolled": true
   },
   "outputs": [],
   "source": [
    "# for i in range(len(all_feat.result['entities'])):\n",
    "#        print(all_feat.result['entities'][i]['text'],all_feat.result['entities'][i]['type'])"
   ]
  },
  {
   "cell_type": "code",
   "execution_count": 12,
   "metadata": {
    "scrolled": true
   },
   "outputs": [],
   "source": [
    "# for i in range(len(all_feat.result['entities'])):\n",
    "#     print(all_feat.result['entities'][i]['text'],all_feat.result['entities'][i]['type'])\n",
    "#     if all_feat.result['entities'][i]['type'] == 'Quantity':\n",
    "#         Cash = float( str(all_feat.result['entities'][0]['text']).replace('$',''))\n",
    "#         print(Cash)"
   ]
  },
  {
   "cell_type": "markdown",
   "metadata": {},
   "source": [
    "#### Relations\n",
    "Recognize when two entities are related, and identify the type of relation:"
   ]
  },
  {
   "cell_type": "code",
   "execution_count": 13,
   "metadata": {},
   "outputs": [],
   "source": [
    "# def getRelations(text):\n",
    "#     response=nlu.analyze(\n",
    "#         text=text,\n",
    "#         features=Features(relations=RelationsOptions())\n",
    "#     )\n",
    "#     print('Raw Results: ')\n",
    "#     print(json.dumps(response.result, indent=2))"
   ]
  },
  {
   "cell_type": "code",
   "execution_count": 14,
   "metadata": {
    "scrolled": true
   },
   "outputs": [],
   "source": [
    "# getRelations(investor_text)"
   ]
  },
  {
   "cell_type": "markdown",
   "metadata": {},
   "source": [
    "#### Semantic Roles\n",
    "This function uses the natural language understanding object to analyze the provided text to find relevant semantic roles in the text:"
   ]
  },
  {
   "cell_type": "code",
   "execution_count": 15,
   "metadata": {},
   "outputs": [],
   "source": [
    "# def getSemanticRoles(text):\n",
    "#     response=nlu.analyze(\n",
    "#         text=text,\n",
    "#         features=Features(semantic_roles=SemanticRolesOptions(entities=True,keywords=True,limit=50))\n",
    "#     )\n",
    "#     print('Raw Results: ')\n",
    "#     print(json.dumps(response.result, indent=2))"
   ]
  },
  {
   "cell_type": "code",
   "execution_count": 16,
   "metadata": {},
   "outputs": [],
   "source": [
    "# getSemanticRoles(investor_text)"
   ]
  },
  {
   "cell_type": "markdown",
   "metadata": {},
   "source": [
    "# Step 3 - Inputs: Holdings, Benchmarks, Objectives, and Preferences\n",
    "\n",
    "As with any optimization problem, there are a few things we need to determine before we get started:\n",
    "- **Holdings**: Where are we starting from? A blank slate? Or does the user have existing holdings?\n",
    "- **Benchmark**: If we're matching the properties of something, what are we matching?\n",
    "- **Objective**: What are we trying to do? Are we minimizing or maximizing some property? Or are we matching a target?\n",
    "- **Preferences**: What are the users unique preferences and constraints that we need to take into account when performing this calculation? Is there anything that can't be included? Do we need to have a specific weight at the end of our calculation?"
   ]
  },
  {
   "cell_type": "code",
   "execution_count": 17,
   "metadata": {},
   "outputs": [],
   "source": [
    "#Initiliaze the request\n",
    "optimization = {\n",
    "    \"portfolios\": [],\n",
    "    \"objectives\": [],\n",
    "    \"constraints\": []\n",
    "}"
   ]
  },
  {
   "cell_type": "markdown",
   "metadata": {},
   "source": [
    "## Holdings\n",
    "\n",
    "First we need to decide if we're starting from scratch, or if the user already has a portfolio of assets. We only need to specify the ID of the asset (our data set that we loaded above uses ticker) and the quantity in # of units. \n",
    "\n",
    "We also need to define how much cash - in addition to the assets in the portfolio - the client wants to add to this analysis.\n",
    "\n",
    "We define this as an array of json objects:"
   ]
  },
  {
   "cell_type": "code",
   "execution_count": 18,
   "metadata": {},
   "outputs": [],
   "source": [
    "##### PUT IN YOUR HOLDINGS HERE #####\n",
    "Holdings = []\n",
    "Holdings.append({\"asset\":\"CX_US0533321024_NYQ\",\"quantity\":14}) #Example of a holding\n",
    "Holdings.append({\"asset\":\"CX_US0584981064_NYQ\",\"quantity\":162})\n",
    "Holdings.append({\"asset\":\"CX_US1696561059_NYQ\",\"quantity\":67})\n",
    "Holdings.append({\"asset\":\"CX_US1912161007_NYQ\",\"quantity\":68})\n",
    "Holdings.append({\"asset\":\"CX_US29379VAY92_USD\",\"quantity\":67})\n",
    "Holdings.append({\"asset\":\"CX_US30231GAN25_USD\",\"quantity\":68})\n",
    "Holdings.append({\"asset\":\"CX_US46120E6023_NSQ\",\"quantity\":13})\n",
    "Holdings.append({\"asset\":\"CX_US4878361082_NYQ\",\"quantity\":67})\n",
    "Holdings.append({\"asset\":\"CX_US5486611073_NYQ\",\"quantity\":67})\n",
    "Holdings.append({\"asset\":\"CX_US56585AAG76_USD\",\"quantity\":67})\n",
    "Holdings.append({\"asset\":\"CX_US651639AN69_USD\",\"quantity\":67})\n",
    "Holdings.append({\"asset\":\"CX_US70450Y1038_NSQ\",\"quantity\":67})\n",
    "Holdings.append({\"asset\":\"CX_US9100471096_NYQ\",\"quantity\":67})\n",
    "\n",
    "#Example cash infusion\n",
    "#Cash = 10000\n",
    "Cash = 0\n",
    "#####################################\n",
    "\n",
    "#Initilialize the 'tradeable universe' - note that position units should be populated where assets are held.\n",
    "tradeable_universe = {\n",
    "    \"name\": \"Universe\",\n",
    "    \"type\":\"root\",\n",
    "    \"holdings\":[]\n",
    "}\n",
    "for index, row in universe_data.iterrows():\n",
    "    holding = [h for h in Holdings if h[\"asset\"] == row[\"Ticker\"]]\n",
    "    if holding:\n",
    "        tradeable_universe[\"holdings\"].append(holding[0])\n",
    "    else:\n",
    "        tradeable_universe[\"holdings\"].append({\"asset\":row[\"Ticker\"],\"quantity\":0})\n",
    "\n",
    "optimization[\"portfolios\"].append(tradeable_universe)\n",
    "# Debug\n",
    "#print(json.dumps(optimization, indent=4, sort_keys=True))\n",
    "#print(\"Holdings: \" + str(Holdings))\n",
    "#print(\"Cash: \" + str(Cash))"
   ]
  },
  {
   "cell_type": "markdown",
   "metadata": {},
   "source": [
    "## Benchmark\n",
    "\n",
    "Next we need to pick a benchmark portfolio for our analysis. If we're simply optimizing to minimize variance/maximize return objectively, then this step can be skipped.\n",
    "\n",
    "Instead, in our analysis we assume that our advisor is recommending an \"off-the-shelf\" portfolio that meets our risk and return objectives that we want to use, with some caveats. Here we select that benchmark by assigning the name to the Benchmark variable below.\n",
    "\n",
    "Choices are: \n",
    "- Conservative\n",
    "- Moderate\n",
    "- Aggressive"
   ]
  },
  {
   "cell_type": "code",
   "execution_count": 19,
   "metadata": {},
   "outputs": [
    {
     "name": "stdout",
     "output_type": "stream",
     "text": [
      "{'name': 'Aggressive', 'type': 'benchmark', 'holdings': [{'asset': 'CX_US4642872000_NYQ', 'quantity': 121.2807245}, {'asset': 'CX_US4642876142_NYQ', 'quantity': 164.3385374}, {'asset': 'CX_US4642878049_NYQ', 'quantity': 282.92544910000004}, {'asset': 'CX_US4642885135_NYQ', 'quantity': 225.73363430000003}, {'asset': 'CX_US46434G1031_NYQ', 'quantity': 191.46084630000001}]}\n"
     ]
    }
   ],
   "source": [
    "#ENTER DETAILS HERE\n",
    "Benchmark_name = \"Aggressive\"\n",
    "\n",
    "#Assemble the benchmark portfolio using the above details:\n",
    "Benchmark_col_name = \"Benchmark - \" + str(Benchmark_name)\n",
    "benchmark = {\n",
    "    \"name\": Benchmark_name,\n",
    "    \"type\": \"benchmark\",\n",
    "    \"holdings\": []\n",
    "}\n",
    "Benchmark_holdings = universe_data.filter(items=[\"Ticker\",\"Last Close Price\",Benchmark_col_name])[universe_data[Benchmark_col_name] != 0]\n",
    "for index,row in Benchmark_holdings.iterrows():\n",
    "    #Determine weight of each asset\n",
    "    shares = row[Benchmark_col_name]\n",
    "    holding = {\"asset\":row[\"Ticker\"],\"quantity\":shares}\n",
    "    benchmark[\"holdings\"].append(holding)\n",
    "    \n",
    "optimization[\"portfolios\"].append(benchmark)\n",
    "#Debug\n",
    "#print(Benchmark_holdings)\n",
    "print(benchmark)"
   ]
  },
  {
   "cell_type": "markdown",
   "metadata": {},
   "source": [
    "## Objective\n",
    "\n",
    "Now we need to describe the overall mission of this analysis. We're going to hard-code this to be a minimization of variance of the returns of the portfolio - the standard [Markowitz approach](https://www.math.ust.hk/~maykwok/courses/ma362/07F/markowitz_JF.pdf).\n",
    "\n",
    "For this type of analysis, the only parameters we need to be concerned with are:\n",
    "- Whether or not we're trying to match the variance of returns relative to the benchmark, or simply minimizing it.\n",
    "- The time step, which is contingent on the data set (in our case it's 30 days)"
   ]
  },
  {
   "cell_type": "code",
   "execution_count": 20,
   "metadata": {},
   "outputs": [
    {
     "name": "stdout",
     "output_type": "stream",
     "text": [
      "[{'sense': 'minimize', 'measure': 'variance', 'attribute': 'return', 'portfolio': 'Universe', 'TargetPortfolio': 'Aggressive', 'timestep': 30, 'description': 'minimize tracking error squared (variance of the difference between Universe portfolio and Benchmark returns) at time 30 days'}]\n"
     ]
    }
   ],
   "source": [
    "optimization[\"objectives\"] = [{\n",
    "       \"sense\": \"minimize\",\n",
    "       \"measure\": \"variance\",\n",
    "       \"attribute\": \"return\",\n",
    "       \"portfolio\": \"Universe\",\n",
    "       \"TargetPortfolio\": Benchmark_name,\n",
    "       \"timestep\": 30,\n",
    "       \"description\": \"minimize tracking error squared (variance of the difference between Universe portfolio and Benchmark returns) at time 30 days\"\n",
    "}]\n",
    "\n",
    "#Debug \n",
    "print(optimization[\"objectives\"])"
   ]
  },
  {
   "cell_type": "markdown",
   "metadata": {},
   "source": [
    "## Preferences\n",
    "\n",
    "Now we get to the real meat of the analysis. This is where we can specify our custom constraints that will make this a _personalized_ analysis, resulting a portfolio with [as close to] identical properties (returns) as the benchmark portfolio, but with assets that meet the criteria specified below.\n",
    "\n",
    "There's a lot of flexibility in how one would specify these constraints, but for the sake of this walkthrough, we're identifying three main types:\n",
    "\n",
    "1. __Filtering__: Ensuring that a certain type of investment is not present in the portfolio (e.g. \"sin stocks\", military investments)\n",
    "2. __ESG and Socially Responsible Investing Requirements__: Determine a minimum threshold for types of companies one would want included in a portfolio (e.g. I want my portfolio's average Governance score to be \"High\")\n",
    "3. __Investment Allocation__: Determine specific weight requirements of the portfolio (e.g. 70% bonds, 30% stocks)\n",
    "\n",
    "The user can also specify standard result requirements including:\n",
    "- Allow/Prevent short-selling (e.g. weights can or can't go negative)\n",
    "- Maximum allocation to any one security"
   ]
  },
  {
   "cell_type": "code",
   "execution_count": 21,
   "metadata": {},
   "outputs": [
    {
     "name": "stdout",
     "output_type": "stream",
     "text": [
      "{'military': 0.0004289161879569292, 'alcohol': 0.0035928667057305574, 'tobacco': 0.8998746275901794, 'gambling': 4.539787187241018e-05, 'fossil fuels': 9.752401092555374e-05, 'information technology': 4.550219091470353e-05, 'health Care': 0.5000000596046448, 'government': 5.1934282964793965e-05, 'consumer staples': 4.539787187241018e-05, 'real estate': 4.953059760737233e-05}\n"
     ]
    },
    {
     "data": {
      "text/plain": [
       "(array([[4.2891619e-04, 3.5928667e-03, 8.9987463e-01, 4.5397872e-05,\n",
       "         9.7524011e-05, 4.5502191e-05, 5.0000006e-01, 5.1934283e-05,\n",
       "         4.5397872e-05, 4.9530598e-05]], dtype=float32),\n",
       " [array([], dtype=float32)])"
      ]
     },
     "execution_count": 21,
     "metadata": {},
     "output_type": "execute_result"
    }
   ],
   "source": [
    "# Predicting constraints of the investor_text using Text classifier\n",
    "output_dir = \".\"\n",
    "nlp = spacy.load(output_dir)\n",
    "doc = nlp(investor_text)\n",
    "textcat = nlp.get_pipe(\"textcat\")\n",
    "print(doc.cats)\n",
    "textcat.predict([doc])"
   ]
  },
  {
   "cell_type": "code",
   "execution_count": 22,
   "metadata": {},
   "outputs": [
    {
     "name": "stdout",
     "output_type": "stream",
     "text": [
      "['Has Tobacco']\n"
     ]
    }
   ],
   "source": [
    "sectors = [\"information technology\",\"health Care\",\"government\",\"consumer staples\",\"real estate\"]\n",
    "\n",
    "types_of_constraints = [\"Has Tobacco\",\"Has Alcohol\",\"Has Gambling\",\"Has Military\",\"Has Fossil Fuels\"]\n",
    "Filtering_Constraints = []\n",
    "for h in doc.cats:\n",
    "    if doc.cats[h] >= 0.5 and h not in sectors:\n",
    "        Filtering_Constraints.append(\"Has \"+h.capitalize())\n",
    "\n",
    "print(Filtering_Constraints)"
   ]
  },
  {
   "cell_type": "code",
   "execution_count": 23,
   "metadata": {},
   "outputs": [
    {
     "name": "stdout",
     "output_type": "stream",
     "text": [
      "Filtering Constraints: ['Has Tobacco']\n",
      "ESG Constraints: [{'field': 'Environmental', 'mean_score': 'High'}]\n",
      "Allocation Constraints: [{'field': 'Sector', 'value': 'Industrials', 'allocation': 0.3, 'inequality': 'less-or-equal'}]\n"
     ]
    }
   ],
   "source": [
    "##### CONSTRAINTS #####\n",
    "#Uncomment the constraints you wish to apply:\n",
    "\n",
    "#Filtering Constraints - \"The final portfolio...\"\n",
    "# Filtering_Constraints = []\n",
    "#Filtering_Constraints.append(\"Has Tobacco\")\n",
    "#Filtering_Constraints.append(\"Has Alcohol\")\n",
    "#Filtering_Constraints.append(\"Has Gambling\")\n",
    "#Filtering_Constraints.append(\"Has Military\") #Ex) No military investments desired in the portfolio\n",
    "# Filtering_Constraints.append(\"Has Fossil Fuels\")\n",
    "    \n",
    "#ESG Constraints - Define both a field and an mean score desired (e.g. \"Low\",\"Average\",\"High\")\n",
    "ESG_Constraints = []\n",
    "#ESG_Constraints.append({\"field\":\"Controversy\",\"mean_score\":\"High\"})\n",
    "ESG_Constraints.append({\"field\":\"Environmental\",\"mean_score\":\"High\"})\n",
    "#ESG_Constraints.append({\"field\":\"Governance\",\"mean_score\":\"High\"})\n",
    "#ESG_Constraints.append({\"field\":\"Social\",\"mean_score\":\"High\"})\n",
    "#ESG_Constraints.append({\"field\":\"Sustainability\",\"mean_score\":\"High\"})\n",
    "                       \n",
    "#Investment Allocation Constraints - I want to allocate [allocation]% of my portfoilio to be [value] identified by the [field] of the assets.\n",
    "#inequality can be \"greater-or-equal\",\"less-or-equal\" or \"equal\"\n",
    "Allocation_Constraints = []\n",
    "#Allocation_Constraints.append({\"field\":\"ActiveOrPassive\",\"value\":\"Passive\",\"allocation\":.1,\"inequality\":\"greater-or-equal\"}) #Field values are \"Active\" or \"Passive\"\n",
    "#Allocation_Constraints.append({\"field\":\"Geography\",\"value\":\"International\",\"allocation\":.1,\"inequality\":\"less-or-equal\"}) #Field values are \"Domestic\" or \"International\"\n",
    "#Allocation_Constraints.append({\"field\":\"Asset Class\",\"value\":\"Equity\",\"allocation\":.1,\"inequality\":\"equal\"}) #Field values are \"Equity\",\"Corporate Bonds\",\"Municipal Bonds\",\"Mortages\",\"Mixed\",\"Money Market\", or \"Commodities\"\n",
    "#Allocation_Constraints.append({\"field\":\"Sector\",\"value\":\"Information Technology\",\"allocation\":.1,\"inequality\":\"greater-or-equal\"}) #Field values are..\n",
    "#\"Consumer Discretionary\",\"Consumer Staples\",\"Energy\",\"Financials\",\"Health Care\",\"Industrials\",\"Information Technology\",\"Materials\",\"Real Estate\",\"Utilities\",\"Commodity\",\"Government\", or \"Diversified\"\n",
    "Allocation_Constraints.append({\"field\":\"Sector\",\"value\":\"Industrials\",\"allocation\":.3,\"inequality\":\"less-or-equal\"}) #Field values are..\n",
    "\n",
    "#Result requirements\n",
    "AllowShortSales = False           #No short-selling\n",
    "MaximumInvestmentWeight = .2      #20%\n",
    "#MaximumNumberofPositions = 5     #Cardinality constraint on the portfolio\n",
    "\n",
    "#Debug\n",
    "print(\"Filtering Constraints: \" + str(Filtering_Constraints))\n",
    "print(\"ESG Constraints: \" + str(ESG_Constraints))\n",
    "print(\"Allocation Constraints: \" + str(Allocation_Constraints))"
   ]
  },
  {
   "cell_type": "code",
   "execution_count": 24,
   "metadata": {},
   "outputs": [
    {
     "name": "stdout",
     "output_type": "stream",
     "text": [
      "{\n",
      "    \"ParentPortfolio\": \"Universe\",\n",
      "    \"holdings\": [\n",
      "        {\n",
      "            \"asset\": \"CX_US4642872000_NYQ\",\n",
      "            \"quantity\": 0\n",
      "        },\n",
      "        {\n",
      "            \"asset\": \"CX_US4642872422_NYQ\",\n",
      "            \"quantity\": 0\n",
      "        },\n",
      "        {\n",
      "            \"asset\": \"CX_US4642874402_NYQ\",\n",
      "            \"quantity\": 0\n",
      "        },\n",
      "        {\n",
      "            \"asset\": \"CX_US4642874659_NYQ\",\n",
      "            \"quantity\": 0\n",
      "        },\n",
      "        {\n",
      "            \"asset\": \"CX_US4642875078_NYQ\",\n",
      "            \"quantity\": 0\n",
      "        },\n",
      "        {\n",
      "            \"asset\": \"CX_US4642875987_NYQ\",\n",
      "            \"quantity\": 0\n",
      "        },\n",
      "        {\n",
      "            \"asset\": \"CX_US4642876142_NYQ\",\n",
      "            \"quantity\": 0\n",
      "        },\n",
      "        {\n",
      "            \"asset\": \"CX_US4642878049_NYQ\",\n",
      "            \"quantity\": 0\n",
      "        },\n",
      "        {\n",
      "            \"asset\": \"CX_US4642882819_NYQ\",\n",
      "            \"quantity\": 0\n",
      "        },\n",
      "        {\n",
      "            \"asset\": \"CX_US4642886877_NYQ\",\n",
      "            \"quantity\": 0\n",
      "        }\n",
      "    ],\n",
      "    \"name\": \"Has Tobacco\",\n",
      "    \"type\": \"subportfolio\"\n",
      "}\n"
     ]
    }
   ],
   "source": [
    "#FILTERING CONTRAINTS\n",
    "#Add subportfolio (how the optimization algorithm knows which asset has which property)\n",
    "for f in Filtering_Constraints:\n",
    "    #initialize the subportfolio\n",
    "    subportfolio = {\n",
    "        \"ParentPortfolio\":\"Universe\",\n",
    "        \"name\":f,\n",
    "        \"type\":\"subportfolio\",\n",
    "        \"holdings\":[]\n",
    "    }\n",
    "    \n",
    "    #Find all the assets that meet the criteria and add them to the subportfolio. Populate holdings quantity if available.\n",
    "    assets = universe_data.filter(items=[\"Ticker\",f])[universe_data[f] != 0]\n",
    "    for index,row in assets.iterrows():  \n",
    "        holding = [h for h in Holdings if h[\"asset\"] == row[\"Ticker\"]]\n",
    "        if holding:\n",
    "            subportfolio[\"holdings\"].append(holding[0])\n",
    "        else:\n",
    "            subportfolio[\"holdings\"].append({\"asset\":row[\"Ticker\"],\"quantity\":0})\n",
    "\n",
    "    #Add subportfolio to list\n",
    "    optimization[\"portfolios\"].append(subportfolio)          \n",
    "            \n",
    "    #Add constraint to list\n",
    "    optimization[\"constraints\"].append({\n",
    "        \"attribute\":\"weight\",\n",
    "        \"portfolio\":f,\n",
    "        \"InPortfolio\":\"Universe\",\n",
    "        \"relation\":\"equal\",\n",
    "        \"constant\":0.0,\n",
    "        \"description\":\"Excluding all securities which have the property \" + f + \".\"\n",
    "    })\n",
    "    \n",
    "#Debug\n",
    "print(json.dumps(subportfolio, indent=4, sort_keys=True))"
   ]
  },
  {
   "cell_type": "code",
   "execution_count": 25,
   "metadata": {},
   "outputs": [
    {
     "name": "stdout",
     "output_type": "stream",
     "text": [
      "{\n",
      "    \"ParentPortfolio\": \"Universe\",\n",
      "    \"holdings\": [\n",
      "        {\n",
      "            \"asset\": \"CX_US03232PAD06_USD\",\n",
      "            \"quantity\": 0\n",
      "        },\n",
      "        {\n",
      "            \"asset\": \"CX_US0533321024_NYQ\",\n",
      "            \"quantity\": 14\n",
      "        },\n",
      "        {\n",
      "            \"asset\": \"CX_US1696561059_NYQ\",\n",
      "            \"quantity\": 67\n",
      "        },\n",
      "        {\n",
      "            \"asset\": \"CX_US4642871762_NYQ\",\n",
      "            \"quantity\": 0\n",
      "        },\n",
      "        {\n",
      "            \"asset\": \"CX_US4642872000_NYQ\",\n",
      "            \"quantity\": 0\n",
      "        },\n",
      "        {\n",
      "            \"asset\": \"CX_US4642874402_NYQ\",\n",
      "            \"quantity\": 0\n",
      "        },\n",
      "        {\n",
      "            \"asset\": \"CX_US4642874576_NYQ\",\n",
      "            \"quantity\": 0\n",
      "        },\n",
      "        {\n",
      "            \"asset\": \"CX_US4642884146_NYQ\",\n",
      "            \"quantity\": 0\n",
      "        },\n",
      "        {\n",
      "            \"asset\": \"CX_US4642885135_NYQ\",\n",
      "            \"quantity\": 0\n",
      "        },\n",
      "        {\n",
      "            \"asset\": \"CX_US4642886463_NYQ\",\n",
      "            \"quantity\": 0\n",
      "        },\n",
      "        {\n",
      "            \"asset\": \"CX_US46434G1031_NYQ\",\n",
      "            \"quantity\": 0\n",
      "        },\n",
      "        {\n",
      "            \"asset\": \"CX_US912810EJ35_USD\",\n",
      "            \"quantity\": 0\n",
      "        },\n",
      "        {\n",
      "            \"asset\": \"CX_US912810PX00_USD\",\n",
      "            \"quantity\": 0\n",
      "        }\n",
      "    ],\n",
      "    \"name\": \"HighEnvironmental\",\n",
      "    \"type\": \"subportfolio\"\n",
      "}\n"
     ]
    }
   ],
   "source": [
    "#ESG CONSTRAINTS\n",
    "#Add subportfolio (how the optimization algorithm knows which asset has which property)\n",
    "for e in ESG_Constraints:\n",
    "    #initialize the subportfolio\n",
    "    subportfolio = {\n",
    "        \"ParentPortfolio\":\"Universe\",\n",
    "        \"name\": e[\"mean_score\"] + e[\"field\"],\n",
    "        \"type\":\"subportfolio\",\n",
    "        \"holdings\":[]\n",
    "    }\n",
    "    \n",
    "    #Find all the assets that meet the criteria and add them to the subportfolio. Populate holdings quantity if available.\n",
    "    assets = universe_data.filter(items=[\"Ticker\",e[\"field\"]])[universe_data[e[\"field\"]] == e[\"mean_score\"]]\n",
    "    for index,row in assets.iterrows():  \n",
    "        holding = [h for h in Holdings if h[\"asset\"] == row[\"Ticker\"]]\n",
    "        if holding:\n",
    "            subportfolio[\"holdings\"].append(holding[0])\n",
    "        else:\n",
    "            subportfolio[\"holdings\"].append({\"asset\":row[\"Ticker\"],\"quantity\":0})\n",
    "\n",
    "    #Add subportfolio to list\n",
    "    optimization[\"portfolios\"].append(subportfolio)          \n",
    "            \n",
    "    #Add constraint to list\n",
    "    optimization[\"constraints\"].append({\n",
    "        \"attribute\":\"weight\",\n",
    "        \"portfolio\":e[\"mean_score\"] + e[\"field\"],\n",
    "        \"InPortfolio\":\"Universe\",\n",
    "        \"relation\":\"greater-or-equal\",\n",
    "        \"constant\":.5,\n",
    "        \"description\":\"Creating an average \" + e[\"field\"] + \" score of \" + e[\"mean_score\"] + \".\"\n",
    "    })\n",
    "    \n",
    "#Debug\n",
    "print(json.dumps(subportfolio, indent=4, sort_keys=True))"
   ]
  },
  {
   "cell_type": "code",
   "execution_count": 26,
   "metadata": {},
   "outputs": [
    {
     "name": "stdout",
     "output_type": "stream",
     "text": [
      "{\n",
      "    \"ParentPortfolio\": \"Universe\",\n",
      "    \"holdings\": [\n",
      "        {\n",
      "            \"asset\": \"CX_IE00BY7QL619_NYQ\",\n",
      "            \"quantity\": 0\n",
      "        },\n",
      "        {\n",
      "            \"asset\": \"CX_US651639AN69_USD\",\n",
      "            \"quantity\": 67\n",
      "        },\n",
      "        {\n",
      "            \"asset\": \"CX_US9100471096_NYQ\",\n",
      "            \"quantity\": 67\n",
      "        }\n",
      "    ],\n",
      "    \"name\": \"Industrials\",\n",
      "    \"type\": \"subportfolio\"\n",
      "}\n"
     ]
    }
   ],
   "source": [
    "#ALLOCATION CONSTRAINTS\n",
    "#Add subportfolio (how the optimization algorithm knows which asset has which property)\n",
    "for a in Allocation_Constraints:\n",
    "    #initialize the subportfolio\n",
    "    subportfolio = {\n",
    "        \"ParentPortfolio\":\"Universe\",\n",
    "        \"name\": a[\"value\"],\n",
    "        \"type\":\"subportfolio\",\n",
    "        \"holdings\":[]\n",
    "    }\n",
    "    \n",
    "    #Find all the assets that meet the criteria and add them to the subportfolio. Populate holdings quantity if available.\n",
    "    assets = universe_data.filter(items=[\"Ticker\",a[\"field\"]])[universe_data[a[\"field\"]] == a[\"value\"]]\n",
    "    for index,row in assets.iterrows():  \n",
    "        holding = [h for h in Holdings if h[\"asset\"] == row[\"Ticker\"]]\n",
    "        if holding:\n",
    "            subportfolio[\"holdings\"].append(holding[0])\n",
    "        else:\n",
    "            subportfolio[\"holdings\"].append({\"asset\":row[\"Ticker\"],\"quantity\":0})\n",
    "\n",
    "    #Add subportfolio to list\n",
    "    optimization[\"portfolios\"].append(subportfolio)          \n",
    "            \n",
    "    #Add constraint to list\n",
    "    optimization[\"constraints\"].append({\n",
    "        \"attribute\":\"weight\",\n",
    "        \"portfolio\":a[\"value\"],\n",
    "        \"InPortfolio\":\"Universe\",\n",
    "        \"relation\":a[\"inequality\"],\n",
    "        \"constant\":a[\"allocation\"],\n",
    "        \"description\":\"Weight of \" + a[\"value\"] + \" in the portfolio should be \" + a[\"inequality\"] + \" to \" + str(a[\"allocation\"]) + \".\"\n",
    "    })\n",
    "    \n",
    "#Debug\n",
    "print(json.dumps(subportfolio, indent=4, sort_keys=True))"
   ]
  },
  {
   "cell_type": "code",
   "execution_count": 27,
   "metadata": {},
   "outputs": [
    {
     "name": "stdout",
     "output_type": "stream",
     "text": [
      "No maximum number of positions.\n",
      "No minimum number of positions.\n",
      "[\n",
      "    {\n",
      "        \"InPortfolio\": \"Universe\",\n",
      "        \"attribute\": \"weight\",\n",
      "        \"constant\": 0.0,\n",
      "        \"description\": \"Excluding all securities which have the property Has Tobacco.\",\n",
      "        \"portfolio\": \"Has Tobacco\",\n",
      "        \"relation\": \"equal\"\n",
      "    },\n",
      "    {\n",
      "        \"InPortfolio\": \"Universe\",\n",
      "        \"attribute\": \"weight\",\n",
      "        \"constant\": 0.5,\n",
      "        \"description\": \"Creating an average Environmental score of High.\",\n",
      "        \"portfolio\": \"HighEnvironmental\",\n",
      "        \"relation\": \"greater-or-equal\"\n",
      "    },\n",
      "    {\n",
      "        \"InPortfolio\": \"Universe\",\n",
      "        \"attribute\": \"weight\",\n",
      "        \"constant\": 0.3,\n",
      "        \"description\": \"Weight of Industrials in the portfolio should be less-or-equal to 0.3.\",\n",
      "        \"portfolio\": \"Industrials\",\n",
      "        \"relation\": \"less-or-equal\"\n",
      "    },\n",
      "    {\n",
      "        \"attribute\": \"weight\",\n",
      "        \"constant\": 0,\n",
      "        \"description\": \"no short-sales for assets in Universe portfolio\",\n",
      "        \"members\": \"Universe\",\n",
      "        \"relation\": \"greater-or-equal\"\n",
      "    },\n",
      "    {\n",
      "        \"attribute\": \"weight\",\n",
      "        \"constant\": 0.2,\n",
      "        \"description\": \"Weight of each asset from the Universe portfolio does not exceed 20.0%.\",\n",
      "        \"members\": \"Universe\",\n",
      "        \"relation\": \"less-or-equal\"\n",
      "    },\n",
      "    {\n",
      "        \"attribute:\": \"value\",\n",
      "        \"cashadjust\": 0,\n",
      "        \"description\": \"cash inflow of 0 monetary units to the Universe portfolio\",\n",
      "        \"portfolio\": \"Universe\"\n",
      "    }\n",
      "]\n"
     ]
    }
   ],
   "source": [
    "#RESULT REQUIREMENTS\n",
    "\n",
    "#No short-sale restriction\n",
    "try:\n",
    "    if AllowShortSales == False:\n",
    "        optimization[\"constraints\"].append({\n",
    "           \"attribute\":\"weight\",\n",
    "           \"relation\":\"greater-or-equal\",\n",
    "           \"members\":\"Universe\",\n",
    "           \"constant\":0,\n",
    "           \"description\":\"no short-sales for assets in Universe portfolio\" \n",
    "        })\n",
    "except:\n",
    "    print(\"Short sales allowed\")\n",
    "\n",
    "#Maximum individual investment weight\n",
    "try:\n",
    "    optimization[\"constraints\"].append({\n",
    "       \"attribute\":\"weight\",\n",
    "       \"relation\":\"less-or-equal\",\n",
    "       \"members\":\"Universe\",\n",
    "       \"constant\":MaximumInvestmentWeight,\n",
    "       \"description\":\"Weight of each asset from the Universe portfolio does not exceed \" + str(MaximumInvestmentWeight*100) + \"%.\"\n",
    "    })\n",
    "except:\n",
    "    print(\"No maximum investment weight.\")\n",
    "\n",
    "#Maximum number of trades/positions\n",
    "try:\n",
    "    optimization[\"constraints\"].append({\n",
    "        \"attribute\": \"count\", \n",
    "        \"relation\": \"less-or-equal\", \n",
    "        \"constant\": MaximumNumberofPositions })\n",
    "except:\n",
    "    print(\"No maximum number of positions.\")\n",
    "\n",
    "#Minimum number of trades/positions\n",
    "try:\n",
    "    optimization[\"constraints\"].append({\n",
    "        \"attribute\": \"count\", \n",
    "        \"relation\": \"greater-or-equal\", \n",
    "        \"constant\": MinimumNumberofPositions })\n",
    "except:\n",
    "    print(\"No minimum number of positions.\")\n",
    "\n",
    "#Cash infusions\n",
    "try:\n",
    "    optimization[\"constraints\"].append({\n",
    "        \"attribute:\": \"value\",\n",
    "        \"portfolio\": \"Universe\",\n",
    "        \"cashadjust\": Cash,\n",
    "        \"description\": \"cash inflow of \" + str(Cash) +\" monetary units to the Universe portfolio\"})\n",
    "except:\n",
    "    print(\"No cash infusions.\")\n",
    "    \n",
    "# Debug\n",
    "print(json.dumps(optimization[\"constraints\"], indent=4, sort_keys=True))"
   ]
  },
  {
   "cell_type": "markdown",
   "metadata": {},
   "source": [
    "## The Assembled Request:\n",
    "\n",
    "We've assembled our payload! Below is what it looks like:"
   ]
  },
  {
   "cell_type": "code",
   "execution_count": 28,
   "metadata": {},
   "outputs": [
    {
     "name": "stdout",
     "output_type": "stream",
     "text": [
      "{\n",
      "    \"constraints\": [\n",
      "        {\n",
      "            \"InPortfolio\": \"Universe\",\n",
      "            \"attribute\": \"weight\",\n",
      "            \"constant\": 0.0,\n",
      "            \"description\": \"Excluding all securities which have the property Has Tobacco.\",\n",
      "            \"portfolio\": \"Has Tobacco\",\n",
      "            \"relation\": \"equal\"\n",
      "        },\n",
      "        {\n",
      "            \"InPortfolio\": \"Universe\",\n",
      "            \"attribute\": \"weight\",\n",
      "            \"constant\": 0.5,\n",
      "            \"description\": \"Creating an average Environmental score of High.\",\n",
      "            \"portfolio\": \"HighEnvironmental\",\n",
      "            \"relation\": \"greater-or-equal\"\n",
      "        },\n",
      "        {\n",
      "            \"InPortfolio\": \"Universe\",\n",
      "            \"attribute\": \"weight\",\n",
      "            \"constant\": 0.3,\n",
      "            \"description\": \"Weight of Industrials in the portfolio should be less-or-equal to 0.3.\",\n",
      "            \"portfolio\": \"Industrials\",\n",
      "            \"relation\": \"less-or-equal\"\n",
      "        },\n",
      "        {\n",
      "            \"attribute\": \"weight\",\n",
      "            \"constant\": 0,\n",
      "            \"description\": \"no short-sales for assets in Universe portfolio\",\n",
      "            \"members\": \"Universe\",\n",
      "            \"relation\": \"greater-or-equal\"\n",
      "        },\n",
      "        {\n",
      "            \"attribute\": \"weight\",\n",
      "            \"constant\": 0.2,\n",
      "            \"description\": \"Weight of each asset from the Universe portfolio does not exceed 20.0%.\",\n",
      "            \"members\": \"Universe\",\n",
      "            \"relation\": \"less-or-equal\"\n",
      "        },\n",
      "        {\n",
      "            \"attribute:\": \"value\",\n",
      "            \"cashadjust\": 0,\n",
      "            \"description\": \"cash inflow of 0 monetary units to the Universe portfolio\",\n",
      "            \"portfolio\": \"Universe\"\n",
      "        }\n",
      "    ],\n",
      "    \"objectives\": [\n",
      "        {\n",
      "            \"TargetPortfolio\": \"Aggressive\",\n",
      "            \"attribute\": \"return\",\n",
      "            \"description\": \"minimize tracking error squared (variance of the difference between Universe portfolio and Benchmark returns) at time 30 days\",\n",
      "            \"measure\": \"variance\",\n",
      "            \"portfolio\": \"Universe\",\n",
      "            \"sense\": \"minimize\",\n",
      "            \"timestep\": 30\n",
      "        }\n",
      "    ],\n",
      "    \"portfolios\": [\n",
      "        {\n",
      "            \"holdings\": [\n",
      "                {\n",
      "                    \"asset\": \"CX_IE00BY7QL619_NYQ\",\n",
      "                    \"quantity\": 0\n",
      "                },\n",
      "                {\n",
      "                    \"asset\": \"CX_US02079KAA51_USD\",\n",
      "                    \"quantity\": 0\n",
      "                },\n",
      "                {\n",
      "                    \"asset\": \"CX_US031162BG42_USD\",\n",
      "                    \"quantity\": 0\n",
      "                },\n",
      "                {\n",
      "                    \"asset\": \"CX_US031162BK53_USD\",\n",
      "                    \"quantity\": 0\n",
      "                },\n",
      "                {\n",
      "                    \"asset\": \"CX_US03232PAD06_USD\",\n",
      "                    \"quantity\": 0\n",
      "                },\n",
      "                {\n",
      "                    \"asset\": \"CX_US0533321024_NYQ\",\n",
      "                    \"quantity\": 14\n",
      "                },\n",
      "                {\n",
      "                    \"asset\": \"CX_US0584981064_NYQ\",\n",
      "                    \"quantity\": 162\n",
      "                },\n",
      "                {\n",
      "                    \"asset\": \"CX_US1696561059_NYQ\",\n",
      "                    \"quantity\": 67\n",
      "                },\n",
      "                {\n",
      "                    \"asset\": \"CX_US1912161007_NYQ\",\n",
      "                    \"quantity\": 68\n",
      "                },\n",
      "                {\n",
      "                    \"asset\": \"CX_US29379VAY92_USD\",\n",
      "                    \"quantity\": 67\n",
      "                },\n",
      "                {\n",
      "                    \"asset\": \"CX_US30231GAN25_USD\",\n",
      "                    \"quantity\": 68\n",
      "                },\n",
      "                {\n",
      "                    \"asset\": \"CX_US46120E6023_NSQ\",\n",
      "                    \"quantity\": 13\n",
      "                },\n",
      "                {\n",
      "                    \"asset\": \"CX_US4642851053_NYQ\",\n",
      "                    \"quantity\": 0\n",
      "                },\n",
      "                {\n",
      "                    \"asset\": \"CX_US4642871762_NYQ\",\n",
      "                    \"quantity\": 0\n",
      "                },\n",
      "                {\n",
      "                    \"asset\": \"CX_US4642872000_NYQ\",\n",
      "                    \"quantity\": 0\n",
      "                },\n",
      "                {\n",
      "                    \"asset\": \"CX_US4642872422_NYQ\",\n",
      "                    \"quantity\": 0\n",
      "                },\n",
      "                {\n",
      "                    \"asset\": \"CX_US4642874329_NYQ\",\n",
      "                    \"quantity\": 0\n",
      "                },\n",
      "                {\n",
      "                    \"asset\": \"CX_US4642874402_NYQ\",\n",
      "                    \"quantity\": 0\n",
      "                },\n",
      "                {\n",
      "                    \"asset\": \"CX_US4642874576_NYQ\",\n",
      "                    \"quantity\": 0\n",
      "                },\n",
      "                {\n",
      "                    \"asset\": \"CX_US4642874659_NYQ\",\n",
      "                    \"quantity\": 0\n",
      "                },\n",
      "                {\n",
      "                    \"asset\": \"CX_US4642875078_NYQ\",\n",
      "                    \"quantity\": 0\n",
      "                },\n",
      "                {\n",
      "                    \"asset\": \"CX_US4642875987_NYQ\",\n",
      "                    \"quantity\": 0\n",
      "                },\n",
      "                {\n",
      "                    \"asset\": \"CX_US4642876142_NYQ\",\n",
      "                    \"quantity\": 0\n",
      "                },\n",
      "                {\n",
      "                    \"asset\": \"CX_US4642878049_NYQ\",\n",
      "                    \"quantity\": 0\n",
      "                },\n",
      "                {\n",
      "                    \"asset\": \"CX_US4642882819_NYQ\",\n",
      "                    \"quantity\": 0\n",
      "                },\n",
      "                {\n",
      "                    \"asset\": \"CX_US4642884146_NYQ\",\n",
      "                    \"quantity\": 0\n",
      "                },\n",
      "                {\n",
      "                    \"asset\": \"CX_US4642885135_NYQ\",\n",
      "                    \"quantity\": 0\n",
      "                },\n",
      "                {\n",
      "                    \"asset\": \"CX_US4642885887_NYQ\",\n",
      "                    \"quantity\": 0\n",
      "                },\n",
      "                {\n",
      "                    \"asset\": \"CX_US4642886463_NYQ\",\n",
      "                    \"quantity\": 0\n",
      "                },\n",
      "                {\n",
      "                    \"asset\": \"CX_US4642886612_NYQ\",\n",
      "                    \"quantity\": 0\n",
      "                },\n",
      "                {\n",
      "                    \"asset\": \"CX_US4642886877_NYQ\",\n",
      "                    \"quantity\": 0\n",
      "                },\n",
      "                {\n",
      "                    \"asset\": \"CX_US46434G1031_NYQ\",\n",
      "                    \"quantity\": 0\n",
      "                },\n",
      "                {\n",
      "                    \"asset\": \"CX_US4878361082_NYQ\",\n",
      "                    \"quantity\": 67\n",
      "                },\n",
      "                {\n",
      "                    \"asset\": \"CX_US5486611073_NYQ\",\n",
      "                    \"quantity\": 67\n",
      "                },\n",
      "                {\n",
      "                    \"asset\": \"CX_US56585AAG76_USD\",\n",
      "                    \"quantity\": 67\n",
      "                },\n",
      "                {\n",
      "                    \"asset\": \"CX_US651639AN69_USD\",\n",
      "                    \"quantity\": 67\n",
      "                },\n",
      "                {\n",
      "                    \"asset\": \"CX_US70450Y1038_NSQ\",\n",
      "                    \"quantity\": 67\n",
      "                },\n",
      "                {\n",
      "                    \"asset\": \"CX_US9100471096_NYQ\",\n",
      "                    \"quantity\": 67\n",
      "                },\n",
      "                {\n",
      "                    \"asset\": \"CX_US912810EJ35_USD\",\n",
      "                    \"quantity\": 0\n",
      "                },\n",
      "                {\n",
      "                    \"asset\": \"CX_US912810PX00_USD\",\n",
      "                    \"quantity\": 0\n",
      "                }\n",
      "            ],\n",
      "            \"name\": \"Universe\",\n",
      "            \"type\": \"root\"\n",
      "        },\n",
      "        {\n",
      "            \"holdings\": [\n",
      "                {\n",
      "                    \"asset\": \"CX_US4642872000_NYQ\",\n",
      "                    \"quantity\": 121.2807245\n",
      "                },\n",
      "                {\n",
      "                    \"asset\": \"CX_US4642876142_NYQ\",\n",
      "                    \"quantity\": 164.3385374\n",
      "                },\n",
      "                {\n",
      "                    \"asset\": \"CX_US4642878049_NYQ\",\n",
      "                    \"quantity\": 282.92544910000004\n",
      "                },\n",
      "                {\n",
      "                    \"asset\": \"CX_US4642885135_NYQ\",\n",
      "                    \"quantity\": 225.73363430000003\n",
      "                },\n",
      "                {\n",
      "                    \"asset\": \"CX_US46434G1031_NYQ\",\n",
      "                    \"quantity\": 191.46084630000001\n",
      "                }\n",
      "            ],\n",
      "            \"name\": \"Aggressive\",\n",
      "            \"type\": \"benchmark\"\n",
      "        },\n",
      "        {\n",
      "            \"ParentPortfolio\": \"Universe\",\n",
      "            \"holdings\": [\n",
      "                {\n",
      "                    \"asset\": \"CX_US4642872000_NYQ\",\n",
      "                    \"quantity\": 0\n",
      "                },\n",
      "                {\n",
      "                    \"asset\": \"CX_US4642872422_NYQ\",\n",
      "                    \"quantity\": 0\n",
      "                },\n",
      "                {\n",
      "                    \"asset\": \"CX_US4642874402_NYQ\",\n",
      "                    \"quantity\": 0\n",
      "                },\n",
      "                {\n",
      "                    \"asset\": \"CX_US4642874659_NYQ\",\n",
      "                    \"quantity\": 0\n",
      "                },\n",
      "                {\n",
      "                    \"asset\": \"CX_US4642875078_NYQ\",\n",
      "                    \"quantity\": 0\n",
      "                },\n",
      "                {\n",
      "                    \"asset\": \"CX_US4642875987_NYQ\",\n",
      "                    \"quantity\": 0\n",
      "                },\n",
      "                {\n",
      "                    \"asset\": \"CX_US4642876142_NYQ\",\n",
      "                    \"quantity\": 0\n",
      "                },\n",
      "                {\n",
      "                    \"asset\": \"CX_US4642878049_NYQ\",\n",
      "                    \"quantity\": 0\n",
      "                },\n",
      "                {\n",
      "                    \"asset\": \"CX_US4642882819_NYQ\",\n",
      "                    \"quantity\": 0\n",
      "                },\n",
      "                {\n",
      "                    \"asset\": \"CX_US4642886877_NYQ\",\n",
      "                    \"quantity\": 0\n",
      "                }\n",
      "            ],\n",
      "            \"name\": \"Has Tobacco\",\n",
      "            \"type\": \"subportfolio\"\n",
      "        },\n",
      "        {\n",
      "            \"ParentPortfolio\": \"Universe\",\n",
      "            \"holdings\": [\n",
      "                {\n",
      "                    \"asset\": \"CX_US03232PAD06_USD\",\n",
      "                    \"quantity\": 0\n",
      "                },\n",
      "                {\n",
      "                    \"asset\": \"CX_US0533321024_NYQ\",\n",
      "                    \"quantity\": 14\n",
      "                },\n",
      "                {\n",
      "                    \"asset\": \"CX_US1696561059_NYQ\",\n",
      "                    \"quantity\": 67\n",
      "                },\n",
      "                {\n",
      "                    \"asset\": \"CX_US4642871762_NYQ\",\n",
      "                    \"quantity\": 0\n",
      "                },\n",
      "                {\n",
      "                    \"asset\": \"CX_US4642872000_NYQ\",\n",
      "                    \"quantity\": 0\n",
      "                },\n",
      "                {\n",
      "                    \"asset\": \"CX_US4642874402_NYQ\",\n",
      "                    \"quantity\": 0\n",
      "                },\n",
      "                {\n",
      "                    \"asset\": \"CX_US4642874576_NYQ\",\n",
      "                    \"quantity\": 0\n",
      "                },\n",
      "                {\n",
      "                    \"asset\": \"CX_US4642884146_NYQ\",\n",
      "                    \"quantity\": 0\n",
      "                },\n",
      "                {\n",
      "                    \"asset\": \"CX_US4642885135_NYQ\",\n",
      "                    \"quantity\": 0\n",
      "                },\n",
      "                {\n",
      "                    \"asset\": \"CX_US4642886463_NYQ\",\n",
      "                    \"quantity\": 0\n",
      "                },\n",
      "                {\n",
      "                    \"asset\": \"CX_US46434G1031_NYQ\",\n",
      "                    \"quantity\": 0\n",
      "                },\n",
      "                {\n",
      "                    \"asset\": \"CX_US912810EJ35_USD\",\n",
      "                    \"quantity\": 0\n",
      "                },\n",
      "                {\n",
      "                    \"asset\": \"CX_US912810PX00_USD\",\n",
      "                    \"quantity\": 0\n",
      "                }\n",
      "            ],\n",
      "            \"name\": \"HighEnvironmental\",\n",
      "            \"type\": \"subportfolio\"\n",
      "        },\n",
      "        {\n",
      "            \"ParentPortfolio\": \"Universe\",\n",
      "            \"holdings\": [\n",
      "                {\n",
      "                    \"asset\": \"CX_IE00BY7QL619_NYQ\",\n",
      "                    \"quantity\": 0\n",
      "                },\n",
      "                {\n",
      "                    \"asset\": \"CX_US651639AN69_USD\",\n",
      "                    \"quantity\": 67\n",
      "                },\n",
      "                {\n",
      "                    \"asset\": \"CX_US9100471096_NYQ\",\n",
      "                    \"quantity\": 67\n",
      "                }\n",
      "            ],\n",
      "            \"name\": \"Industrials\",\n",
      "            \"type\": \"subportfolio\"\n",
      "        }\n",
      "    ]\n",
      "}\n"
     ]
    }
   ],
   "source": [
    "print(json.dumps(optimization, indent=4, sort_keys=True))"
   ]
  },
  {
   "cell_type": "markdown",
   "metadata": {},
   "source": [
    "# Step 4 - Submit the Request\n",
    "\n",
    "Now that we have the payload assembled, we issue a [requests](http://docs.python-requests.org/en/master/) command to the Portfolio Optimization service running on the cloud. You'll want to provision your own copy of the application [which can be done here on Bluemix](https://console.bluemix.net/catalog/services/portfolio-optimization?env_id=ibm:yp:us-south). Fill in your uri and API credentials below before issuing the command."
   ]
  },
  {
   "cell_type": "code",
   "execution_count": 29,
   "metadata": {},
   "outputs": [
    {
     "name": "stdout",
     "output_type": "stream",
     "text": [
      "{\n",
      " \"Holdings\": [\n",
      "  {\n",
      "   \"Asset\": \"CX_IE00BY7QL619_NYQ\",\n",
      "   \"Quantity\": 0,\n",
      "   \"OptimizedTrade\": 171.707496399948,\n",
      "   \"OptimizedQuantity\": 171.707496399948\n",
      "  },\n",
      "  {\n",
      "   \"Asset\": \"CX_US02079KAA51_USD\",\n",
      "   \"Quantity\": 0,\n",
      "   \"OptimizedTrade\": 0,\n",
      "   \"OptimizedQuantity\": 0\n",
      "  },\n",
      "  {\n",
      "   \"Asset\": \"CX_US031162BG42_USD\",\n",
      "   \"Quantity\": 0,\n",
      "   \"OptimizedTrade\": 0,\n",
      "   \"OptimizedQuantity\": 0\n",
      "  },\n",
      "  {\n",
      "   \"Asset\": \"CX_US031162BK53_USD\",\n",
      "   \"Quantity\": 0,\n",
      "   \"OptimizedTrade\": 0,\n",
      "   \"OptimizedQuantity\": 0\n",
      "  },\n",
      "  {\n",
      "   \"Asset\": \"CX_US03232PAD06_USD\",\n",
      "   \"Quantity\": 0,\n",
      "   \"OptimizedTrade\": 0,\n",
      "   \"OptimizedQuantity\": 0\n",
      "  },\n",
      "  {\n",
      "   \"Asset\": \"CX_US0533321024_NYQ\",\n",
      "   \"Quantity\": 14,\n",
      "   \"OptimizedTrade\": 20.4443820425064,\n",
      "   \"OptimizedQuantity\": 34.444382042506405\n",
      "  },\n",
      "  {\n",
      "   \"Asset\": \"CX_US0584981064_NYQ\",\n",
      "   \"Quantity\": 162,\n",
      "   \"OptimizedTrade\": -153.277042019289,\n",
      "   \"OptimizedQuantity\": 8.722957980710987\n",
      "  },\n",
      "  {\n",
      "   \"Asset\": \"CX_US1696561059_NYQ\",\n",
      "   \"Quantity\": 67,\n",
      "   \"OptimizedTrade\": -67,\n",
      "   \"OptimizedQuantity\": 0\n",
      "  },\n",
      "  {\n",
      "   \"Asset\": \"CX_US1912161007_NYQ\",\n",
      "   \"Quantity\": 68,\n",
      "   \"OptimizedTrade\": -68,\n",
      "   \"OptimizedQuantity\": 0\n",
      "  },\n",
      "  {\n",
      "   \"Asset\": \"CX_US29379VAY92_USD\",\n",
      "   \"Quantity\": 67,\n",
      "   \"OptimizedTrade\": -67,\n",
      "   \"OptimizedQuantity\": 0\n",
      "  },\n",
      "  {\n",
      "   \"Asset\": \"CX_US30231GAN25_USD\",\n",
      "   \"Quantity\": 68,\n",
      "   \"OptimizedTrade\": -68,\n",
      "   \"OptimizedQuantity\": 0\n",
      "  },\n",
      "  {\n",
      "   \"Asset\": \"CX_US46120E6023_NSQ\",\n",
      "   \"Quantity\": 13,\n",
      "   \"OptimizedTrade\": -13,\n",
      "   \"OptimizedQuantity\": 0\n",
      "  },\n",
      "  {\n",
      "   \"Asset\": \"CX_US4642851053_NYQ\",\n",
      "   \"Quantity\": 0,\n",
      "   \"OptimizedTrade\": 0,\n",
      "   \"OptimizedQuantity\": 0\n",
      "  },\n",
      "  {\n",
      "   \"Asset\": \"CX_US4642871762_NYQ\",\n",
      "   \"Quantity\": 0,\n",
      "   \"OptimizedTrade\": 0,\n",
      "   \"OptimizedQuantity\": 0\n",
      "  },\n",
      "  {\n",
      "   \"Asset\": \"CX_US4642872000_NYQ\",\n",
      "   \"Quantity\": 0,\n",
      "   \"OptimizedTrade\": 0,\n",
      "   \"OptimizedQuantity\": 0\n",
      "  },\n",
      "  {\n",
      "   \"Asset\": \"CX_US4642872422_NYQ\",\n",
      "   \"Quantity\": 0,\n",
      "   \"OptimizedTrade\": 0,\n",
      "   \"OptimizedQuantity\": 0\n",
      "  },\n",
      "  {\n",
      "   \"Asset\": \"CX_US4642874329_NYQ\",\n",
      "   \"Quantity\": 0,\n",
      "   \"OptimizedTrade\": 0,\n",
      "   \"OptimizedQuantity\": 0\n",
      "  },\n",
      "  {\n",
      "   \"Asset\": \"CX_US4642874402_NYQ\",\n",
      "   \"Quantity\": 0,\n",
      "   \"OptimizedTrade\": 0,\n",
      "   \"OptimizedQuantity\": 0\n",
      "  },\n",
      "  {\n",
      "   \"Asset\": \"CX_US4642874576_NYQ\",\n",
      "   \"Quantity\": 0,\n",
      "   \"OptimizedTrade\": 0,\n",
      "   \"OptimizedQuantity\": 0\n",
      "  },\n",
      "  {\n",
      "   \"Asset\": \"CX_US4642874659_NYQ\",\n",
      "   \"Quantity\": 0,\n",
      "   \"OptimizedTrade\": 0,\n",
      "   \"OptimizedQuantity\": 0\n",
      "  },\n",
      "  {\n",
      "   \"Asset\": \"CX_US4642875078_NYQ\",\n",
      "   \"Quantity\": 0,\n",
      "   \"OptimizedTrade\": 0,\n",
      "   \"OptimizedQuantity\": 0\n",
      "  },\n",
      "  {\n",
      "   \"Asset\": \"CX_US4642875987_NYQ\",\n",
      "   \"Quantity\": 0,\n",
      "   \"OptimizedTrade\": 0,\n",
      "   \"OptimizedQuantity\": 0\n",
      "  },\n",
      "  {\n",
      "   \"Asset\": \"CX_US4642876142_NYQ\",\n",
      "   \"Quantity\": 0,\n",
      "   \"OptimizedTrade\": 0,\n",
      "   \"OptimizedQuantity\": 0\n",
      "  },\n",
      "  {\n",
      "   \"Asset\": \"CX_US4642878049_NYQ\",\n",
      "   \"Quantity\": 0,\n",
      "   \"OptimizedTrade\": 0,\n",
      "   \"OptimizedQuantity\": 0\n",
      "  },\n",
      "  {\n",
      "   \"Asset\": \"CX_US4642882819_NYQ\",\n",
      "   \"Quantity\": 0,\n",
      "   \"OptimizedTrade\": 0,\n",
      "   \"OptimizedQuantity\": 0\n",
      "  },\n",
      "  {\n",
      "   \"Asset\": \"CX_US4642884146_NYQ\",\n",
      "   \"Quantity\": 0,\n",
      "   \"OptimizedTrade\": 0,\n",
      "   \"OptimizedQuantity\": 0\n",
      "  },\n",
      "  {\n",
      "   \"Asset\": \"CX_US4642885135_NYQ\",\n",
      "   \"Quantity\": 0,\n",
      "   \"OptimizedTrade\": 225.754898419865,\n",
      "   \"OptimizedQuantity\": 225.754898419865\n",
      "  },\n",
      "  {\n",
      "   \"Asset\": \"CX_US4642885887_NYQ\",\n",
      "   \"Quantity\": 0,\n",
      "   \"OptimizedTrade\": 0,\n",
      "   \"OptimizedQuantity\": 0\n",
      "  },\n",
      "  {\n",
      "   \"Asset\": \"CX_US4642886463_NYQ\",\n",
      "   \"Quantity\": 0,\n",
      "   \"OptimizedTrade\": 0,\n",
      "   \"OptimizedQuantity\": 0\n",
      "  },\n",
      "  {\n",
      "   \"Asset\": \"CX_US4642886612_NYQ\",\n",
      "   \"Quantity\": 0,\n",
      "   \"OptimizedTrade\": 0,\n",
      "   \"OptimizedQuantity\": 0\n",
      "  },\n",
      "  {\n",
      "   \"Asset\": \"CX_US4642886877_NYQ\",\n",
      "   \"Quantity\": 0,\n",
      "   \"OptimizedTrade\": 0,\n",
      "   \"OptimizedQuantity\": 0\n",
      "  },\n",
      "  {\n",
      "   \"Asset\": \"CX_US46434G1031_NYQ\",\n",
      "   \"Quantity\": 0,\n",
      "   \"OptimizedTrade\": 247.541456353628,\n",
      "   \"OptimizedQuantity\": 247.541456353628\n",
      "  },\n",
      "  {\n",
      "   \"Asset\": \"CX_US4878361082_NYQ\",\n",
      "   \"Quantity\": 67,\n",
      "   \"OptimizedTrade\": -67,\n",
      "   \"OptimizedQuantity\": 0\n",
      "  },\n",
      "  {\n",
      "   \"Asset\": \"CX_US5486611073_NYQ\",\n",
      "   \"Quantity\": 67,\n",
      "   \"OptimizedTrade\": 33.0337431828863,\n",
      "   \"OptimizedQuantity\": 100.0337431828863\n",
      "  },\n",
      "  {\n",
      "   \"Asset\": \"CX_US56585AAG76_USD\",\n",
      "   \"Quantity\": 67,\n",
      "   \"OptimizedTrade\": 73.1979367108785,\n",
      "   \"OptimizedQuantity\": 140.19793671087848\n",
      "  },\n",
      "  {\n",
      "   \"Asset\": \"CX_US651639AN69_USD\",\n",
      "   \"Quantity\": 67,\n",
      "   \"OptimizedTrade\": -67,\n",
      "   \"OptimizedQuantity\": 0\n",
      "  },\n",
      "  {\n",
      "   \"Asset\": \"CX_US70450Y1038_NSQ\",\n",
      "   \"Quantity\": 67,\n",
      "   \"OptimizedTrade\": 123.919966367071,\n",
      "   \"OptimizedQuantity\": 190.919966367071\n",
      "  },\n",
      "  {\n",
      "   \"Asset\": \"CX_US9100471096_NYQ\",\n",
      "   \"Quantity\": 67,\n",
      "   \"OptimizedTrade\": 47.4043457664801,\n",
      "   \"OptimizedQuantity\": 114.4043457664801\n",
      "  },\n",
      "  {\n",
      "   \"Asset\": \"CX_US912810EJ35_USD\",\n",
      "   \"Quantity\": 0,\n",
      "   \"OptimizedTrade\": 0,\n",
      "   \"OptimizedQuantity\": 0\n",
      "  },\n",
      "  {\n",
      "   \"Asset\": \"CX_US912810PX00_USD\",\n",
      "   \"Quantity\": 0,\n",
      "   \"OptimizedTrade\": 0,\n",
      "   \"OptimizedQuantity\": 0\n",
      "  }\n",
      " ],\n",
      " \"Metadata\": {\n",
      "  \"Status\": \"Optimal\",\n",
      "  \"Message\": \"Optimal\",\n",
      "  \"StatusCode\": 1,\n",
      "  \"ObjectiveValue\": 0.000414640932858401,\n",
      "  \"TransactionID\": \"0d28ff5e5e349b87358cf1cf\",\n",
      "  \"RequestStartTimestamp\": \"2020-01-31T21-26-31.544070708-UTC\",\n",
      "  \"RequestEndTimestamp\": \"2020-01-31T21-26-31.721021589-UTC\"\n",
      " },\n",
      " \"Performance\": {\n",
      "  \"Algorithm\": \"Dual\",\n",
      "  \"Threads\": 2,\n",
      "  \"Time\": 0\n",
      " }\n",
      "}\n"
     ]
    }
   ],
   "source": [
    "##### ENTER YOUR PORTFOLIO OPTIMZIATION SERVICE CREDENTIALS #####\n",
    "uri = \"fss-analytics.mybluemix.net\"\n",
    "api_key = \"7e8dcfd7e2fbe6661636a8b3a479a5491546172f8d8c0fd6eabc5e837b66c0fb8b54a6604835e9e49685b29d5a509918b068809af2879963294e8c6b7eefcbd345147370d4ee7829b8abf68f07712b27efe998baae301a2ac45e613097bd1e0e8a94e5847a047ead8468f92802ee90cbb3603d1327591a27922ac1dcea75ef4f\"\n",
    "#################################################################\n",
    "\n",
    "url = \"https://\" + uri + \"/api/v1/optimization/portfolio/construct\"\n",
    "headers = {'content-type': 'application/json', 'accept': 'application/json', 'X-IBM-Access-Token': api_key}\n",
    "data = json.dumps(optimization)\n",
    "\n",
    "import requests\n",
    "r = requests.post(url,data=data,headers=headers)\n",
    "\n",
    "print(r.text)\n"
   ]
  },
  {
   "cell_type": "markdown",
   "metadata": {},
   "source": [
    "# Step 5 - Viewing your Results\n",
    "\n",
    "So let's take a look at the results of our optimization calculation:"
   ]
  },
  {
   "cell_type": "code",
   "execution_count": 30,
   "metadata": {
    "pixiedust": {
     "displayParams": {
      "handlerId": "dataframe"
     }
    }
   },
   "outputs": [],
   "source": [
    "#Initialize Portfolio and field names\n",
    "new_portfolio = []\n",
    "fields = [\"Name\",\"Last Close Price\",\"One Month Return\"]\n",
    "\n",
    "#Gather fields\n",
    "for f in Filtering_Constraints:\n",
    "    fields.append(f)\n",
    "for e in ESG_Constraints:\n",
    "    fields.append(e[\"field\"])\n",
    "for a in Allocation_Constraints:\n",
    "    fields.append(a[\"field\"])\n",
    "    \n",
    "#Assemble the data frame\n",
    "for i in json.loads(r.text)[\"Holdings\"]:\n",
    "    if i[\"OptimizedQuantity\"] != 0:\n",
    "        security_data = universe_data.filter(items=fields)[universe_data[\"Ticker\"] == i[\"Asset\"]]\n",
    "        security_data = security_data.values.tolist()[0]\n",
    "        security_data.append(i[\"OptimizedQuantity\"] * security_data[1])\n",
    "        total_data = (str(i[\"Asset\"]),float(i[\"OptimizedQuantity\"])) + tuple(security_data)\n",
    "        new_portfolio.append(total_data)\n",
    "        \n",
    "fields = [\"Ticker\",\"Quantity\"]+fields+[\"Total Value\"]\n",
    "    \n",
    "#Debug\n",
    "#print(fields)\n",
    "#print(new_portfolio)"
   ]
  },
  {
   "cell_type": "code",
   "execution_count": 31,
   "metadata": {},
   "outputs": [
    {
     "data": {
      "text/html": [
       "<div>\n",
       "<style scoped>\n",
       "    .dataframe tbody tr th:only-of-type {\n",
       "        vertical-align: middle;\n",
       "    }\n",
       "\n",
       "    .dataframe tbody tr th {\n",
       "        vertical-align: top;\n",
       "    }\n",
       "\n",
       "    .dataframe thead th {\n",
       "        text-align: right;\n",
       "    }\n",
       "</style>\n",
       "<table border=\"1\" class=\"dataframe\">\n",
       "  <thead>\n",
       "    <tr style=\"text-align: right;\">\n",
       "      <th></th>\n",
       "      <th>Ticker</th>\n",
       "      <th>Quantity</th>\n",
       "      <th>Name</th>\n",
       "      <th>Last Close Price</th>\n",
       "      <th>One Month Return</th>\n",
       "      <th>Has Tobacco</th>\n",
       "      <th>Environmental</th>\n",
       "      <th>Sector</th>\n",
       "      <th>Total Value</th>\n",
       "    </tr>\n",
       "  </thead>\n",
       "  <tbody>\n",
       "    <tr>\n",
       "      <th>0</th>\n",
       "      <td>CX_IE00BY7QL619_NYQ</td>\n",
       "      <td>171.707496</td>\n",
       "      <td>JOHNSON CONTROLS INTERNATIONAL PLC</td>\n",
       "      <td>44.00</td>\n",
       "      <td>0.007803</td>\n",
       "      <td>0</td>\n",
       "      <td>Average</td>\n",
       "      <td>Industrials</td>\n",
       "      <td>7555.129842</td>\n",
       "    </tr>\n",
       "    <tr>\n",
       "      <th>1</th>\n",
       "      <td>CX_US0533321024_NYQ</td>\n",
       "      <td>34.444382</td>\n",
       "      <td>AUTOZONE INC</td>\n",
       "      <td>495.69</td>\n",
       "      <td>-0.012556</td>\n",
       "      <td>0</td>\n",
       "      <td>High</td>\n",
       "      <td>Consumer Discretionary</td>\n",
       "      <td>17073.735735</td>\n",
       "    </tr>\n",
       "    <tr>\n",
       "      <th>2</th>\n",
       "      <td>CX_US0584981064_NYQ</td>\n",
       "      <td>8.722958</td>\n",
       "      <td>BALL CORP</td>\n",
       "      <td>42.42</td>\n",
       "      <td>-0.011617</td>\n",
       "      <td>0</td>\n",
       "      <td>Average</td>\n",
       "      <td>Materials</td>\n",
       "      <td>370.027878</td>\n",
       "    </tr>\n",
       "    <tr>\n",
       "      <th>3</th>\n",
       "      <td>CX_US4642885135_NYQ</td>\n",
       "      <td>225.754898</td>\n",
       "      <td>iShares iBoxx $ High Yield Corporate Bond ETF</td>\n",
       "      <td>88.60</td>\n",
       "      <td>0.000763</td>\n",
       "      <td>0</td>\n",
       "      <td>High</td>\n",
       "      <td>Diversified</td>\n",
       "      <td>20001.884000</td>\n",
       "    </tr>\n",
       "    <tr>\n",
       "      <th>4</th>\n",
       "      <td>CX_US46434G1031_NYQ</td>\n",
       "      <td>247.541456</td>\n",
       "      <td>iShares Core MSCI Emerging Markets</td>\n",
       "      <td>52.23</td>\n",
       "      <td>0.008036</td>\n",
       "      <td>0</td>\n",
       "      <td>High</td>\n",
       "      <td>Diversified</td>\n",
       "      <td>12929.090265</td>\n",
       "    </tr>\n",
       "    <tr>\n",
       "      <th>5</th>\n",
       "      <td>CX_US5486611073_NYQ</td>\n",
       "      <td>100.033743</td>\n",
       "      <td>LOWES COMPANIES INC</td>\n",
       "      <td>75.96</td>\n",
       "      <td>0.005499</td>\n",
       "      <td>0</td>\n",
       "      <td>Average</td>\n",
       "      <td>Consumer Discretionary</td>\n",
       "      <td>7598.563132</td>\n",
       "    </tr>\n",
       "    <tr>\n",
       "      <th>6</th>\n",
       "      <td>CX_US56585AAG76_USD</td>\n",
       "      <td>140.197937</td>\n",
       "      <td>MARATHON PETROLEUM CORP</td>\n",
       "      <td>101.27</td>\n",
       "      <td>0.001844</td>\n",
       "      <td>0</td>\n",
       "      <td>Low</td>\n",
       "      <td>Energy</td>\n",
       "      <td>14197.845051</td>\n",
       "    </tr>\n",
       "    <tr>\n",
       "      <th>7</th>\n",
       "      <td>CX_US70450Y1038_NSQ</td>\n",
       "      <td>190.919966</td>\n",
       "      <td>PAYPAL HOLDINGS INC</td>\n",
       "      <td>58.96</td>\n",
       "      <td>0.019552</td>\n",
       "      <td>0</td>\n",
       "      <td>Low</td>\n",
       "      <td>Information Technology</td>\n",
       "      <td>11256.641217</td>\n",
       "    </tr>\n",
       "    <tr>\n",
       "      <th>8</th>\n",
       "      <td>CX_US9100471096_NYQ</td>\n",
       "      <td>114.404346</td>\n",
       "      <td>UNITED CONTINENTAL HOLDINGS INC</td>\n",
       "      <td>78.90</td>\n",
       "      <td>0.017505</td>\n",
       "      <td>0</td>\n",
       "      <td>Low</td>\n",
       "      <td>Industrials</td>\n",
       "      <td>9026.502881</td>\n",
       "    </tr>\n",
       "  </tbody>\n",
       "</table>\n",
       "</div>"
      ],
      "text/plain": [
       "                Ticker    Quantity  \\\n",
       "0  CX_IE00BY7QL619_NYQ  171.707496   \n",
       "1  CX_US0533321024_NYQ   34.444382   \n",
       "2  CX_US0584981064_NYQ    8.722958   \n",
       "3  CX_US4642885135_NYQ  225.754898   \n",
       "4  CX_US46434G1031_NYQ  247.541456   \n",
       "5  CX_US5486611073_NYQ  100.033743   \n",
       "6  CX_US56585AAG76_USD  140.197937   \n",
       "7  CX_US70450Y1038_NSQ  190.919966   \n",
       "8  CX_US9100471096_NYQ  114.404346   \n",
       "\n",
       "                                            Name  Last Close Price  \\\n",
       "0             JOHNSON CONTROLS INTERNATIONAL PLC             44.00   \n",
       "1                                   AUTOZONE INC            495.69   \n",
       "2                                      BALL CORP             42.42   \n",
       "3  iShares iBoxx $ High Yield Corporate Bond ETF             88.60   \n",
       "4             iShares Core MSCI Emerging Markets             52.23   \n",
       "5                            LOWES COMPANIES INC             75.96   \n",
       "6                        MARATHON PETROLEUM CORP            101.27   \n",
       "7                            PAYPAL HOLDINGS INC             58.96   \n",
       "8                UNITED CONTINENTAL HOLDINGS INC             78.90   \n",
       "\n",
       "   One Month Return  Has Tobacco Environmental                  Sector  \\\n",
       "0          0.007803            0       Average             Industrials   \n",
       "1         -0.012556            0          High  Consumer Discretionary   \n",
       "2         -0.011617            0       Average               Materials   \n",
       "3          0.000763            0          High             Diversified   \n",
       "4          0.008036            0          High             Diversified   \n",
       "5          0.005499            0       Average  Consumer Discretionary   \n",
       "6          0.001844            0           Low                  Energy   \n",
       "7          0.019552            0           Low  Information Technology   \n",
       "8          0.017505            0           Low             Industrials   \n",
       "\n",
       "    Total Value  \n",
       "0   7555.129842  \n",
       "1  17073.735735  \n",
       "2    370.027878  \n",
       "3  20001.884000  \n",
       "4  12929.090265  \n",
       "5   7598.563132  \n",
       "6  14197.845051  \n",
       "7  11256.641217  \n",
       "8   9026.502881  "
      ]
     },
     "execution_count": 31,
     "metadata": {},
     "output_type": "execute_result"
    }
   ],
   "source": [
    "OptimizedPortfolio = pd.DataFrame(new_portfolio, columns=fields)\n",
    "OptimizedPortfolio"
   ]
  },
  {
   "cell_type": "markdown",
   "metadata": {},
   "source": [
    "## How close did we match the risk of the benchmark?"
   ]
  },
  {
   "cell_type": "code",
   "execution_count": 32,
   "metadata": {},
   "outputs": [
    {
     "name": "stdout",
     "output_type": "stream",
     "text": [
      "Tracking error between returns of the benchmark and the optimized portfolio is: 2.04%\n"
     ]
    }
   ],
   "source": [
    "print(\"Tracking error between returns of the benchmark and the optimized portfolio is: %.2f%%\" % \n",
    "      (100*(json.loads(r.text)[\"Metadata\"][\"ObjectiveValue\"])**0.5))"
   ]
  },
  {
   "cell_type": "markdown",
   "metadata": {},
   "source": [
    "## Checking that the constraints are met:"
   ]
  },
  {
   "cell_type": "code",
   "execution_count": 33,
   "metadata": {},
   "outputs": [
    {
     "name": "stdout",
     "output_type": "stream",
     "text": [
      "Total Portfolio Value: 100009.42000000001\n",
      "Aggregation: Has Tobacco\n",
      "  Total allocation to 0 is 99.99999999999999%.\n",
      "Aggregation: Environmental\n",
      "  Total allocation to High is 50.000000000000036%.\n",
      "  Total allocation to Low is 34.4777413454537%.\n",
      "  Total allocation to Average is 15.522258654546253%.\n",
      "Aggregation: Sector\n",
      "  Total allocation to Diversified is 32.92787245976431%.\n",
      "  Total allocation to Information Technology is 11.255580941277838%.\n",
      "  Total allocation to Consumer Discretionary is 24.66997495518126%.\n",
      "  Total allocation to Industrials is 16.580070879896102%.\n",
      "  Total allocation to Materials is 0.3699930241988805%.\n",
      "  Total allocation to Energy is 14.196507739681582%.\n"
     ]
    }
   ],
   "source": [
    "#Sum up quantity * price\n",
    "portfolio_value = 0\n",
    "for j in new_portfolio:\n",
    "    portfolio_value += j[-1]\n",
    "print(\"Total Portfolio Value: \" + str(portfolio_value))\n",
    "\n",
    "#We use a pandas dataframe to do our aggregation analysis:\n",
    "for f in fields[5:-1]:\n",
    "    print(\"Aggregation: \" + f)\n",
    "    elements = set(OptimizedPortfolio[f])\n",
    "    for e in elements:\n",
    "        aggr = OptimizedPortfolio.filter(items=fields)[OptimizedPortfolio[f] == e]\n",
    "        aggr_pct = aggr[\"Total Value\"].sum() / portfolio_value\n",
    "        print(\"  Total allocation to \" + str(e) + \" is \" + str(aggr_pct*100) + \"%.\")"
   ]
  },
  {
   "cell_type": "code",
   "execution_count": 34,
   "metadata": {},
   "outputs": [
    {
     "data": {
      "text/html": [
       "<div>\n",
       "<style scoped>\n",
       "    .dataframe tbody tr th:only-of-type {\n",
       "        vertical-align: middle;\n",
       "    }\n",
       "\n",
       "    .dataframe tbody tr th {\n",
       "        vertical-align: top;\n",
       "    }\n",
       "\n",
       "    .dataframe thead th {\n",
       "        text-align: right;\n",
       "    }\n",
       "</style>\n",
       "<table border=\"1\" class=\"dataframe\">\n",
       "  <thead>\n",
       "    <tr style=\"text-align: right;\">\n",
       "      <th></th>\n",
       "      <th>Ticker</th>\n",
       "      <th>Quantity</th>\n",
       "      <th>Name</th>\n",
       "      <th>Last Close Price</th>\n",
       "      <th>One Month Return</th>\n",
       "      <th>Has Tobacco</th>\n",
       "      <th>Environmental</th>\n",
       "      <th>Sector</th>\n",
       "      <th>Total Value</th>\n",
       "      <th>Weight</th>\n",
       "    </tr>\n",
       "  </thead>\n",
       "  <tbody>\n",
       "    <tr>\n",
       "      <th>0</th>\n",
       "      <td>CX_IE00BY7QL619_NYQ</td>\n",
       "      <td>171.707496</td>\n",
       "      <td>JOHNSON CONTROLS INTERNATIONAL PLC</td>\n",
       "      <td>44.00</td>\n",
       "      <td>0.007803</td>\n",
       "      <td>0</td>\n",
       "      <td>Average</td>\n",
       "      <td>Industrials</td>\n",
       "      <td>7555.129842</td>\n",
       "      <td>0.075544</td>\n",
       "    </tr>\n",
       "    <tr>\n",
       "      <th>1</th>\n",
       "      <td>CX_US0533321024_NYQ</td>\n",
       "      <td>34.444382</td>\n",
       "      <td>AUTOZONE INC</td>\n",
       "      <td>495.69</td>\n",
       "      <td>-0.012556</td>\n",
       "      <td>0</td>\n",
       "      <td>High</td>\n",
       "      <td>Consumer Discretionary</td>\n",
       "      <td>17073.735735</td>\n",
       "      <td>0.170721</td>\n",
       "    </tr>\n",
       "    <tr>\n",
       "      <th>2</th>\n",
       "      <td>CX_US0584981064_NYQ</td>\n",
       "      <td>8.722958</td>\n",
       "      <td>BALL CORP</td>\n",
       "      <td>42.42</td>\n",
       "      <td>-0.011617</td>\n",
       "      <td>0</td>\n",
       "      <td>Average</td>\n",
       "      <td>Materials</td>\n",
       "      <td>370.027878</td>\n",
       "      <td>0.003700</td>\n",
       "    </tr>\n",
       "    <tr>\n",
       "      <th>3</th>\n",
       "      <td>CX_US4642885135_NYQ</td>\n",
       "      <td>225.754898</td>\n",
       "      <td>iShares iBoxx $ High Yield Corporate Bond ETF</td>\n",
       "      <td>88.60</td>\n",
       "      <td>0.000763</td>\n",
       "      <td>0</td>\n",
       "      <td>High</td>\n",
       "      <td>Diversified</td>\n",
       "      <td>20001.884000</td>\n",
       "      <td>0.200000</td>\n",
       "    </tr>\n",
       "    <tr>\n",
       "      <th>4</th>\n",
       "      <td>CX_US46434G1031_NYQ</td>\n",
       "      <td>247.541456</td>\n",
       "      <td>iShares Core MSCI Emerging Markets</td>\n",
       "      <td>52.23</td>\n",
       "      <td>0.008036</td>\n",
       "      <td>0</td>\n",
       "      <td>High</td>\n",
       "      <td>Diversified</td>\n",
       "      <td>12929.090265</td>\n",
       "      <td>0.129279</td>\n",
       "    </tr>\n",
       "    <tr>\n",
       "      <th>5</th>\n",
       "      <td>CX_US5486611073_NYQ</td>\n",
       "      <td>100.033743</td>\n",
       "      <td>LOWES COMPANIES INC</td>\n",
       "      <td>75.96</td>\n",
       "      <td>0.005499</td>\n",
       "      <td>0</td>\n",
       "      <td>Average</td>\n",
       "      <td>Consumer Discretionary</td>\n",
       "      <td>7598.563132</td>\n",
       "      <td>0.075978</td>\n",
       "    </tr>\n",
       "    <tr>\n",
       "      <th>6</th>\n",
       "      <td>CX_US56585AAG76_USD</td>\n",
       "      <td>140.197937</td>\n",
       "      <td>MARATHON PETROLEUM CORP</td>\n",
       "      <td>101.27</td>\n",
       "      <td>0.001844</td>\n",
       "      <td>0</td>\n",
       "      <td>Low</td>\n",
       "      <td>Energy</td>\n",
       "      <td>14197.845051</td>\n",
       "      <td>0.141965</td>\n",
       "    </tr>\n",
       "    <tr>\n",
       "      <th>7</th>\n",
       "      <td>CX_US70450Y1038_NSQ</td>\n",
       "      <td>190.919966</td>\n",
       "      <td>PAYPAL HOLDINGS INC</td>\n",
       "      <td>58.96</td>\n",
       "      <td>0.019552</td>\n",
       "      <td>0</td>\n",
       "      <td>Low</td>\n",
       "      <td>Information Technology</td>\n",
       "      <td>11256.641217</td>\n",
       "      <td>0.112556</td>\n",
       "    </tr>\n",
       "    <tr>\n",
       "      <th>8</th>\n",
       "      <td>CX_US9100471096_NYQ</td>\n",
       "      <td>114.404346</td>\n",
       "      <td>UNITED CONTINENTAL HOLDINGS INC</td>\n",
       "      <td>78.90</td>\n",
       "      <td>0.017505</td>\n",
       "      <td>0</td>\n",
       "      <td>Low</td>\n",
       "      <td>Industrials</td>\n",
       "      <td>9026.502881</td>\n",
       "      <td>0.090257</td>\n",
       "    </tr>\n",
       "  </tbody>\n",
       "</table>\n",
       "</div>"
      ],
      "text/plain": [
       "                Ticker    Quantity  \\\n",
       "0  CX_IE00BY7QL619_NYQ  171.707496   \n",
       "1  CX_US0533321024_NYQ   34.444382   \n",
       "2  CX_US0584981064_NYQ    8.722958   \n",
       "3  CX_US4642885135_NYQ  225.754898   \n",
       "4  CX_US46434G1031_NYQ  247.541456   \n",
       "5  CX_US5486611073_NYQ  100.033743   \n",
       "6  CX_US56585AAG76_USD  140.197937   \n",
       "7  CX_US70450Y1038_NSQ  190.919966   \n",
       "8  CX_US9100471096_NYQ  114.404346   \n",
       "\n",
       "                                            Name  Last Close Price  \\\n",
       "0             JOHNSON CONTROLS INTERNATIONAL PLC             44.00   \n",
       "1                                   AUTOZONE INC            495.69   \n",
       "2                                      BALL CORP             42.42   \n",
       "3  iShares iBoxx $ High Yield Corporate Bond ETF             88.60   \n",
       "4             iShares Core MSCI Emerging Markets             52.23   \n",
       "5                            LOWES COMPANIES INC             75.96   \n",
       "6                        MARATHON PETROLEUM CORP            101.27   \n",
       "7                            PAYPAL HOLDINGS INC             58.96   \n",
       "8                UNITED CONTINENTAL HOLDINGS INC             78.90   \n",
       "\n",
       "   One Month Return  Has Tobacco Environmental                  Sector  \\\n",
       "0          0.007803            0       Average             Industrials   \n",
       "1         -0.012556            0          High  Consumer Discretionary   \n",
       "2         -0.011617            0       Average               Materials   \n",
       "3          0.000763            0          High             Diversified   \n",
       "4          0.008036            0          High             Diversified   \n",
       "5          0.005499            0       Average  Consumer Discretionary   \n",
       "6          0.001844            0           Low                  Energy   \n",
       "7          0.019552            0           Low  Information Technology   \n",
       "8          0.017505            0           Low             Industrials   \n",
       "\n",
       "    Total Value    Weight  \n",
       "0   7555.129842  0.075544  \n",
       "1  17073.735735  0.170721  \n",
       "2    370.027878  0.003700  \n",
       "3  20001.884000  0.200000  \n",
       "4  12929.090265  0.129279  \n",
       "5   7598.563132  0.075978  \n",
       "6  14197.845051  0.141965  \n",
       "7  11256.641217  0.112556  \n",
       "8   9026.502881  0.090257  "
      ]
     },
     "execution_count": 34,
     "metadata": {},
     "output_type": "execute_result"
    }
   ],
   "source": [
    "OptimizedPortfolio['Weight'] = OptimizedPortfolio.apply(lambda row: row['Quantity'] * row['Last Close Price'] / portfolio_value, axis=1)\n",
    "OptimizedPortfolio"
   ]
  },
  {
   "cell_type": "code",
   "execution_count": null,
   "metadata": {},
   "outputs": [],
   "source": []
  },
  {
   "cell_type": "code",
   "execution_count": 35,
   "metadata": {},
   "outputs": [
    {
     "data": {
      "text/plain": [
       "Environmental\n",
       "Average    0.155223\n",
       "High       0.500000\n",
       "Low        0.344777\n",
       "Name: Weight, dtype: float64"
      ]
     },
     "execution_count": 35,
     "metadata": {},
     "output_type": "execute_result"
    }
   ],
   "source": [
    "OptimizedPortfolio.groupby(\"Environmental\")[\"Weight\"].sum()"
   ]
  },
  {
   "cell_type": "code",
   "execution_count": 36,
   "metadata": {},
   "outputs": [
    {
     "data": {
      "text/plain": [
       "Sector\n",
       "Consumer Discretionary    0.246700\n",
       "Diversified               0.329279\n",
       "Energy                    0.141965\n",
       "Industrials               0.165801\n",
       "Information Technology    0.112556\n",
       "Materials                 0.003700\n",
       "Name: Weight, dtype: float64"
      ]
     },
     "execution_count": 36,
     "metadata": {},
     "output_type": "execute_result"
    }
   ],
   "source": [
    "OptimizedPortfolio.groupby(\"Sector\")[\"Weight\"].sum()"
   ]
  },
  {
   "cell_type": "code",
   "execution_count": 38,
   "metadata": {},
   "outputs": [
    {
     "data": {
      "text/plain": [
       "Has Tobacco\n",
       "0    1.0\n",
       "Name: Weight, dtype: float64"
      ]
     },
     "execution_count": 38,
     "metadata": {},
     "output_type": "execute_result"
    }
   ],
   "source": [
    "OptimizedPortfolio.groupby(\"Has Tobacco\")[\"Weight\"].sum()"
   ]
  },
  {
   "cell_type": "markdown",
   "metadata": {},
   "source": [
    "## Compute portfolio expected return:"
   ]
  },
  {
   "cell_type": "code",
   "execution_count": 39,
   "metadata": {},
   "outputs": [],
   "source": [
    "OptimizedPortfolio['Return'] = OptimizedPortfolio.apply(lambda row: row['One Month Return'] * row['Weight'], axis=1)"
   ]
  },
  {
   "cell_type": "code",
   "execution_count": 40,
   "metadata": {},
   "outputs": [
    {
     "name": "stdout",
     "output_type": "stream",
     "text": [
      "Portfolio Return: 0.40547%\n"
     ]
    }
   ],
   "source": [
    "print(\"Portfolio Return: %.5f%%\" % (100*OptimizedPortfolio[\"Return\"].sum()))"
   ]
  },
  {
   "cell_type": "code",
   "execution_count": 41,
   "metadata": {
    "scrolled": true
   },
   "outputs": [
    {
     "name": "stdout",
     "output_type": "stream",
     "text": [
      "Annualized Portfolio Return: 4.86566%\n"
     ]
    }
   ],
   "source": [
    "print(\"Annualized Portfolio Return: %.5f%%\" % (100*12*OptimizedPortfolio[\"Return\"].sum()))"
   ]
  },
  {
   "cell_type": "markdown",
   "metadata": {},
   "source": [
    "## Compute portfolio variance and tracking error:"
   ]
  },
  {
   "cell_type": "code",
   "execution_count": 42,
   "metadata": {},
   "outputs": [],
   "source": [
    "import numpy as np"
   ]
  },
  {
   "cell_type": "markdown",
   "metadata": {},
   "source": [
    "Read covariance matrix"
   ]
  },
  {
   "cell_type": "code",
   "execution_count": 43,
   "metadata": {},
   "outputs": [],
   "source": [
    "df_cov = pd.read_csv('Covar_Universe_Data.csv', sep=',', header=None)\n",
    "cov_matr = df_cov.values"
   ]
  },
  {
   "cell_type": "markdown",
   "metadata": {},
   "source": [
    "Get holdings of initial and optimal portfolios as well as the benchmark portfolio"
   ]
  },
  {
   "cell_type": "code",
   "execution_count": 44,
   "metadata": {},
   "outputs": [],
   "source": [
    "x_opt = []\n",
    "x_init = []\n",
    "for i in json.loads(r.text)[\"Holdings\"]:\n",
    "    x_opt.append(float(i[\"OptimizedQuantity\"]))\n",
    "    x_init.append(float(i[\"Quantity\"]))\n",
    "x_opt = np.array(x_opt)\n",
    "x_init = np.array(x_init)"
   ]
  },
  {
   "cell_type": "code",
   "execution_count": 45,
   "metadata": {},
   "outputs": [],
   "source": [
    "x_bench = universe_data[Benchmark_col_name].values"
   ]
  },
  {
   "cell_type": "markdown",
   "metadata": {},
   "source": [
    "Compute portfolio values"
   ]
  },
  {
   "cell_type": "code",
   "execution_count": 46,
   "metadata": {},
   "outputs": [
    {
     "name": "stdout",
     "output_type": "stream",
     "text": [
      "[ 7.8034650e-03 -4.2937400e-04  2.3731300e-04  4.5688380e-03\n",
      "  5.9383600e-04 -1.2555638e-02 -1.1617474e-02 -2.3754004e-02\n",
      "  3.6032200e-03  5.6157880e-03  1.5441190e-03  2.6059887e-02\n",
      "  6.4736240e-03  4.4599900e-04  7.2534720e-03  1.8470850e-03\n",
      "  8.7190900e-04  2.2943600e-04 -1.4962400e-04  1.7528580e-03\n",
      "  7.5125380e-03  5.9511270e-03  8.0877380e-03 -1.1267470e-02\n",
      "  2.4601260e-03  6.1834000e-04  7.6251200e-04 -9.2442000e-04\n",
      "  1.3753500e-04  1.1946200e-04 -3.3145500e-04  8.0363500e-03\n",
      "  8.7496500e-04  5.4989580e-03  1.8439920e-03  5.7555540e-03\n",
      "  1.9552159e-02  1.7505497e-02 -3.6790980e-03  7.4915200e-06]\n"
     ]
    }
   ],
   "source": [
    "val = universe_data[\"Last Close Price\"].values\n",
    "ret = universe_data[\"One Month Return\"].values\n",
    "print(ret)"
   ]
  },
  {
   "cell_type": "code",
   "execution_count": 47,
   "metadata": {},
   "outputs": [
    {
     "data": {
      "text/plain": [
       "100009.41999999998"
      ]
     },
     "execution_count": 47,
     "metadata": {},
     "output_type": "execute_result"
    }
   ],
   "source": [
    "portf_init_val = np.dot(val.T, x_init) # Initial portfolio value\n",
    "portf_init_val"
   ]
  },
  {
   "cell_type": "code",
   "execution_count": 48,
   "metadata": {},
   "outputs": [
    {
     "data": {
      "text/plain": [
       "100009.41999999998"
      ]
     },
     "execution_count": 48,
     "metadata": {},
     "output_type": "execute_result"
    }
   ],
   "source": [
    "portf_opt_val = np.dot(val.T, x_opt) # Optimal portfolio value\n",
    "portf_opt_val"
   ]
  },
  {
   "cell_type": "code",
   "execution_count": 49,
   "metadata": {},
   "outputs": [
    {
     "data": {
      "text/plain": [
       "True"
      ]
     },
     "execution_count": 49,
     "metadata": {},
     "output_type": "execute_result"
    }
   ],
   "source": [
    "np.allclose(portf_opt_val, OptimizedPortfolio[\"Total Value\"].sum()) # Sanity check"
   ]
  },
  {
   "cell_type": "markdown",
   "metadata": {},
   "source": [
    "Compute portfolio expected return, standard deviation and tracking error"
   ]
  },
  {
   "cell_type": "code",
   "execution_count": 50,
   "metadata": {},
   "outputs": [],
   "source": [
    "w_opt   = x_opt * val / portf_opt_val\n",
    "w_init  = x_init * val / portf_opt_val\n",
    "w_bench = x_bench * val / portf_opt_val\n",
    "# sharp_ratio = []\n",
    "# l = np.prod(w_opt.shape)\n",
    "# for i in np.arange(l):\n",
    "#     if w_opt[i]!=0:\n",
    "#        sharp_ratio.append(ret[i]/cov_matr[i][i])\n",
    "\n",
    "# print(sharp_ratio)\n",
    "# np.sort(sharp_ratio)\n",
    "# print\n"
   ]
  },
  {
   "cell_type": "code",
   "execution_count": 51,
   "metadata": {},
   "outputs": [],
   "source": [
    "ret_opt  = np.dot(ret.T, w_opt)\n",
    "ret_init = np.dot(ret.T, w_init)"
   ]
  },
  {
   "cell_type": "code",
   "execution_count": 52,
   "metadata": {},
   "outputs": [
    {
     "name": "stdout",
     "output_type": "stream",
     "text": [
      "Expected monthly return of optimal portfolio:  0.40547%\n",
      "Expected monthly return of initial portfolio: -0.13031%\n"
     ]
    }
   ],
   "source": [
    "print(\"Expected monthly return of optimal portfolio: % .5f%%\" % (100*ret_opt))\n",
    "print(\"Expected monthly return of initial portfolio: % .5f%%\" % (100*ret_init))"
   ]
  },
  {
   "cell_type": "code",
   "execution_count": 53,
   "metadata": {},
   "outputs": [
    {
     "name": "stdout",
     "output_type": "stream",
     "text": [
      "Expected annual return of optimal portfolio:  4.86566%\n",
      "Expected annual return of initial portfolio: -1.56377%\n"
     ]
    }
   ],
   "source": [
    "print(\"Expected annual return of optimal portfolio: % .5f%%\" % (12*100*ret_opt))\n",
    "print(\"Expected annual return of initial portfolio: % .5f%%\" % (12*100*ret_init))"
   ]
  },
  {
   "cell_type": "code",
   "execution_count": 54,
   "metadata": {},
   "outputs": [],
   "source": [
    "std_opt  = np.dot(np.dot(w_opt.T, cov_matr), w_opt)**0.5\n",
    "std_init = np.dot(np.dot(w_init.T, cov_matr), w_init)**0.5"
   ]
  },
  {
   "cell_type": "code",
   "execution_count": 55,
   "metadata": {},
   "outputs": [
    {
     "name": "stdout",
     "output_type": "stream",
     "text": [
      "Standard deviation of optimal portfolio: 0.02765115\n",
      "Standard deviation of initial portfolio: 0.02941583\n"
     ]
    }
   ],
   "source": [
    "print(\"Standard deviation of optimal portfolio: %.8f\" % std_opt)\n",
    "print(\"Standard deviation of initial portfolio: %.8f\" % std_init)"
   ]
  },
  {
   "cell_type": "code",
   "execution_count": 56,
   "metadata": {},
   "outputs": [],
   "source": [
    "tr_err_opt  = np.dot(np.dot((w_opt-w_bench).T, cov_matr), (w_opt-w_bench))**0.5\n",
    "tr_err_init = np.dot(np.dot((w_init-w_bench).T, cov_matr), (w_init-w_bench))**0.5"
   ]
  },
  {
   "cell_type": "code",
   "execution_count": 57,
   "metadata": {},
   "outputs": [
    {
     "name": "stdout",
     "output_type": "stream",
     "text": [
      "Tracking error of optimal portfolio: 0.02036029\n",
      "Tracking error of initial portfolio: 0.03596899\n"
     ]
    }
   ],
   "source": [
    "print(\"Tracking error of optimal portfolio: %.8f\" % tr_err_opt)\n",
    "print(\"Tracking error of initial portfolio: %.8f\" % tr_err_init)"
   ]
  },
  {
   "cell_type": "code",
   "execution_count": 58,
   "metadata": {},
   "outputs": [
    {
     "name": "stdout",
     "output_type": "stream",
     "text": [
      "Number of assets in optimal portfolio: 9\n",
      "Number of assets in initial portfolio: 13\n"
     ]
    }
   ],
   "source": [
    "print(\"Number of assets in optimal portfolio: %d\" % np.count_nonzero(w_opt))\n",
    "print(\"Number of assets in initial portfolio: %d\" % np.count_nonzero(w_init))"
   ]
  },
  {
   "cell_type": "code",
   "execution_count": 66,
   "metadata": {},
   "outputs": [
    {
     "name": "stdout",
     "output_type": "stream",
     "text": [
      "<class 'pandas.core.indexes.base.Index'>\n",
      "<class 'pandas.core.frame.DataFrame'>\n",
      "{'date': 0      2019-01-30\n",
      "1      2019-01-31\n",
      "2      2019-02-01\n",
      "3      2019-02-04\n",
      "4      2019-02-05\n",
      "          ...    \n",
      "247    2020-01-23\n",
      "248    2020-01-24\n",
      "249    2020-01-27\n",
      "250    2020-01-28\n",
      "251    2020-01-29\n",
      "Name: date, Length: 252, dtype: object, 'JOHNSON CONTROLS INTERNATIONAL PLC': 0      32.243599\n",
      "1      32.906200\n",
      "2      32.399506\n",
      "3      32.954926\n",
      "4      33.169292\n",
      "         ...    \n",
      "247    41.750000\n",
      "248    41.349998\n",
      "249    40.299999\n",
      "250    40.810001\n",
      "251    40.490002\n",
      "Name: JOHNSON CONTROLS INTERNATIONAL PLC, Length: 252, dtype: float64, 'AUTOZONE INC': 0       843.169983\n",
      "1       847.340027\n",
      "2       849.909973\n",
      "3       869.440002\n",
      "4       869.419983\n",
      "          ...     \n",
      "247    1166.000000\n",
      "248    1140.229980\n",
      "249    1114.489990\n",
      "250    1107.579956\n",
      "251    1096.510010\n",
      "Name: AUTOZONE INC, Length: 252, dtype: float64, 'BALL CORP': 0      50.752544\n",
      "1      51.843361\n",
      "2      51.595444\n",
      "3      51.545864\n",
      "4      52.557350\n",
      "         ...    \n",
      "247    71.870003\n",
      "248    71.930000\n",
      "249    73.959999\n",
      "250    72.669998\n",
      "251    72.589996\n",
      "Name: BALL CORP, Length: 252, dtype: float64, 'iShares iBoxx $ High Yield Corporate Bond ETF': 0      80.692039\n",
      "1      80.891632\n",
      "2      80.852478\n",
      "3      81.043449\n",
      "4      81.329880\n",
      "         ...    \n",
      "247    88.059998\n",
      "248    87.690002\n",
      "249    87.099998\n",
      "250    87.849998\n",
      "251    87.800003\n",
      "Name: iShares iBoxx $ High Yield Corporate Bond ETF, Length: 252, dtype: float64, 'iShares Core MSCI Emerging Markets': 0      49.676956\n",
      "1      50.015682\n",
      "2      49.735023\n",
      "3      49.831806\n",
      "4      50.460869\n",
      "         ...    \n",
      "247    53.980000\n",
      "248    53.570000\n",
      "249    51.759998\n",
      "250    52.270000\n",
      "251    52.400002\n",
      "Name: iShares Core MSCI Emerging Markets, Length: 252, dtype: float64, 'MARATHON PETROLEUM CORP': 0      62.897514\n",
      "1      63.792881\n",
      "2      63.032303\n",
      "3      63.455914\n",
      "4      64.678627\n",
      "         ...    \n",
      "247    55.330002\n",
      "248    54.490002\n",
      "249    52.700001\n",
      "250    52.930000\n",
      "251    53.590000\n",
      "Name: MARATHON PETROLEUM CORP, Length: 252, dtype: float64, 'PAYPAL HOLDINGS INC': 0       92.419998\n",
      "1       88.760002\n",
      "2       90.010002\n",
      "3       91.660004\n",
      "4       92.269997\n",
      "          ...    \n",
      "247    117.889999\n",
      "248    116.980003\n",
      "249    115.239998\n",
      "250    116.519997\n",
      "251    116.660004\n",
      "Name: PAYPAL HOLDINGS INC, Length: 252, dtype: float64}\n"
     ]
    }
   ],
   "source": [
    "# Load time series data of stock prices\n",
    "stock_prices = pd.read_csv(\"stock_prices.csv\")\n",
    "print(type(stock_prices.columns))\n",
    "print(type(OptimizedPortfolio))\n",
    "subset_stock_prices = {}\n",
    "\n",
    "subset_stock_prices[\"date\"] = (stock_prices[\"date\"])\n",
    "\n",
    "for i, j in OptimizedPortfolio.iterrows(): \n",
    "    for h in stock_prices.columns.tolist():\n",
    "        if h==j[\"Name\"]:\n",
    "            subset_stock_prices[h] = stock_prices[h]\n",
    "            \n",
    "\n",
    "print((subset_stock_prices))\n",
    "\n"
   ]
  },
  {
   "cell_type": "code",
   "execution_count": 61,
   "metadata": {},
   "outputs": [
    {
     "name": "stdout",
     "output_type": "stream",
     "text": [
      "{'JOHNSON CONTROLS INTERNATIONAL PLC': 0.10349, 'AUTOZONE INC': 0.09997, 'BALL CORP': 0.17808, 'iShares iBoxx $ High Yield Corporate Bond ETF': 0.61846, 'iShares Core MSCI Emerging Markets': 0.0, 'MARATHON PETROLEUM CORP': 0.0, 'PAYPAL HOLDINGS INC': 0.0}\n",
      "Expected annual return: 17.5%\n",
      "Annual volatility: 7.0%\n",
      "Sharpe Ratio: 2.22\n"
     ]
    },
    {
     "data": {
      "text/plain": [
       "(0.17535559561669756, 0.07005548714904317, 2.217607812592585)"
      ]
     },
     "execution_count": 61,
     "metadata": {},
     "output_type": "execute_result"
    }
   ],
   "source": [
    "#long-only portfolio that maximises the Sharpe ratio (a measure of risk-adjusted returns)\n",
    "from pypfopt.efficient_frontier import EfficientFrontier\n",
    "from pypfopt import risk_models\n",
    "from pypfopt import expected_returns\n",
    "\n",
    "# Read in price data\n",
    "df = pd.DataFrame.from_dict(subset_stock_prices)\n",
    "\n",
    "df.set_index('date',inplace=True)\n",
    "\n",
    "\n",
    "# Calculate expected returns and sample covariance\n",
    "mu = expected_returns.mean_historical_return(df)\n",
    "S = risk_models.sample_cov(df)\n",
    "\n",
    "\n",
    "# Optimise for maximal Sharpe ratio\n",
    "ef = EfficientFrontier(mu, S)\n",
    "raw_weights = ef.max_sharpe()\n",
    "cleaned_weights = ef.clean_weights()\n",
    "ef.save_weights_to_file(\"weights.csv\")  # saves to file\n",
    "print(cleaned_weights)\n",
    "ef.portfolio_performance(verbose=True)"
   ]
  },
  {
   "cell_type": "code",
   "execution_count": 62,
   "metadata": {},
   "outputs": [
    {
     "name": "stdout",
     "output_type": "stream",
     "text": [
      "{'JOHNSON CONTROLS INTERNATIONAL PLC': 0.08005728518612548, 'AUTOZONE INC': 0.07707886086786356, 'BALL CORP': 0.11306581236737707, 'iShares iBoxx $ High Yield Corporate Bond ETF': 0.722031251411065, 'iShares Core MSCI Emerging Markets': 0.0, 'MARATHON PETROLEUM CORP': 0.0, 'PAYPAL HOLDINGS INC': 0.0077667901675690775}\n",
      "Expected annual return: 14.9%\n",
      "Annual volatility: 5.9%\n",
      "Sharpe Ratio: 2.18\n"
     ]
    },
    {
     "data": {
      "text/plain": [
       "(0.14897826308316797, 0.059197890153827926, 2.1787645260331603)"
      ]
     },
     "execution_count": 62,
     "metadata": {},
     "output_type": "execute_result"
    }
   ],
   "source": [
    "# Markowitz Critical Line Algorithm\n",
    "from pypfopt.cla import CLA\n",
    "cla = CLA(mu, S)\n",
    "print(cla.max_sharpe())\n",
    "cla.portfolio_performance(verbose=True)"
   ]
  },
  {
   "cell_type": "code",
   "execution_count": 63,
   "metadata": {},
   "outputs": [
    {
     "name": "stdout",
     "output_type": "stream",
     "text": [
      "{'AUTOZONE INC': 0.03597946036760566, 'BALL CORP': 0.03781008908255258, 'JOHNSON CONTROLS INTERNATIONAL PLC': 0.04970609321549348, 'MARATHON PETROLEUM CORP': 0.013683083555858415, 'PAYPAL HOLDINGS INC': 0.02414881675633326, 'iShares Core MSCI Emerging Markets': 0.06053147326975273, 'iShares iBoxx $ High Yield Corporate Bond ETF': 0.7781409837524039}\n",
      "Expected annual return: 0.0%\n",
      "Annual volatility: 0.3%\n",
      "Sharpe Ratio: -5.62\n"
     ]
    },
    {
     "data": {
      "text/plain": [
       "(0.00044611223607726047, 0.003476619895993381, -5.624396209219637)"
      ]
     },
     "execution_count": 63,
     "metadata": {},
     "output_type": "execute_result"
    }
   ],
   "source": [
    "# Hierarchical Risk Parity optimisation method\n",
    "from pypfopt.hierarchical_risk_parity import HRPOpt\n",
    "# This function by default calculates the percentage change from the immediately previous row\n",
    "returns = df.pct_change().dropna()\n",
    "hrp = HRPOpt(returns)\n",
    "weights = hrp.hrp_portfolio()\n",
    "print(weights)\n",
    "hrp.portfolio_performance(verbose=True)"
   ]
  },
  {
   "cell_type": "code",
   "execution_count": 65,
   "metadata": {},
   "outputs": [
    {
     "name": "stdout",
     "output_type": "stream",
     "text": [
      "Expected annual return: 4.9%\n",
      "Annual volatility: 20.8%\n",
      "Sharpe Ratio: 0.14\n"
     ]
    },
    {
     "name": "stderr",
     "output_type": "stream",
     "text": [
      "/home/evilmorty/anaconda3/lib/python3.7/site-packages/pypfopt/black_litterman.py:173: UserWarning: Running Black-Litterman with no prior.\n",
      "  warnings.warn(\"Running Black-Litterman with no prior.\")\n"
     ]
    },
    {
     "data": {
      "text/plain": [
       "(0.04936228104635638, 0.2080918940094082, 0.14110247391486022)"
      ]
     },
     "execution_count": 65,
     "metadata": {},
     "output_type": "execute_result"
    }
   ],
   "source": [
    "from pypfopt import black_litterman\n",
    "from pypfopt.black_litterman import BlackLittermanModel\n",
    "viewdict = {\"AUTOZONE INC\": 0.1, \"BALL CORP\": 0.030, \"PAYPAL HOLDINGS INC\": 0}\n",
    "bl = BlackLittermanModel(S, absolute_views=viewdict)\n",
    "\n",
    "rets = bl.bl_returns()\n",
    "ef = EfficientFrontier(rets, S)\n",
    "raw_weights = ef.max_sharpe()\n",
    "cleaned_weights = ef.clean_weights()\n",
    "ef.portfolio_performance(verbose=True)\n",
    "# OR use return-implied weights\n",
    "# delta = black_litterman.market_implied_risk_aversion(df)\n",
    "# bl.bl_weights(delta)\n",
    "# weights = bl.clean_weights()"
   ]
  },
  {
   "cell_type": "code",
   "execution_count": null,
   "metadata": {},
   "outputs": [],
   "source": []
  }
 ],
 "metadata": {
  "anaconda-cloud": {},
  "kernelspec": {
   "display_name": "Python 3",
   "language": "python",
   "name": "python3"
  },
  "language_info": {
   "codemirror_mode": {
    "name": "ipython",
    "version": 3
   },
   "file_extension": ".py",
   "mimetype": "text/x-python",
   "name": "python",
   "nbconvert_exporter": "python",
   "pygments_lexer": "ipython3",
   "version": "3.7.4"
  },
  "widgets": {
   "state": {},
   "version": "1.1.2"
  }
 },
 "nbformat": 4,
 "nbformat_minor": 1
}
